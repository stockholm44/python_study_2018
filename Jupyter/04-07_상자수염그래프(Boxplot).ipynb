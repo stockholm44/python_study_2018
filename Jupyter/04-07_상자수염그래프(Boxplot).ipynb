{
 "cells": [
  {
   "cell_type": "markdown",
   "metadata": {},
   "source": [
    "# 4-7 상자수염 그래프"
   ]
  },
  {
   "cell_type": "code",
   "execution_count": 2,
   "metadata": {},
   "outputs": [
    {
     "data": {
      "image/png": "[encoded data removed]",
      "text/plain": [
       "<Figure size 432x288 with 1 Axes>"
      ]
     },
     "metadata": {},
     "output_type": "display_data"
    }
   ],
   "source": [
    "import matplotlib.pyplot as plt\n",
    "plt.style.use('ggplot')\n",
    "\n",
    "x = [1, 2, 3, 3, 11, 20]\n",
    "\n",
    "fig = plt.figure()\n",
    "ax = fig.add_subplot(111)\n",
    "ax.boxplot(x)\n",
    "\n",
    "plt.show()"
   ]
  },
  {
   "cell_type": "markdown",
   "metadata": {},
   "source": [
    "여러개의 boxplot을 그리는 경우"
   ]
  },
  {
   "cell_type": "code",
   "execution_count": 3,
   "metadata": {},
   "outputs": [
    {
     "data": {
      "image/png": "[encoded data removed]",
      "text/plain": [
       "<Figure size 432x288 with 1 Axes>"
      ]
     },
     "metadata": {},
     "output_type": "display_data"
    }
   ],
   "source": [
    "# 복수의 리스트를 리스트에 세트\n",
    "x = [[1,2,3,3,11,20],[1,2,9,10,15,16]]\n",
    "labels = ['A','B']\n",
    "\n",
    "fig = plt.figure()\n",
    "ax =fig.add_subplot(111)\n",
    "\n",
    "# 데이터와 레이블 지정\n",
    "ax.boxplot(x, labels=labels)\n",
    "\n",
    "plt.show()"
   ]
  },
  {
   "cell_type": "markdown",
   "metadata": {},
   "source": [
    "상자수염 그래프 활용하기"
   ]
  },
  {
   "cell_type": "code",
   "execution_count": 4,
   "metadata": {},
   "outputs": [
    {
     "data": {
      "text/html": [
       "<div>\n",
       "<style scoped>\n",
       "    .dataframe tbody tr th:only-of-type {\n",
       "        vertical-align: middle;\n",
       "    }\n",
       "\n",
       "    .dataframe tbody tr th {\n",
       "        vertical-align: top;\n",
       "    }\n",
       "\n",
       "    .dataframe thead th {\n",
       "        text-align: right;\n",
       "    }\n",
       "</style>\n",
       "<table border=\"1\" class=\"dataframe\">\n",
       "  <thead>\n",
       "    <tr style=\"text-align: right;\">\n",
       "      <th></th>\n",
       "      <th>name</th>\n",
       "      <th>genre</th>\n",
       "      <th>type</th>\n",
       "      <th>episodes</th>\n",
       "      <th>rating</th>\n",
       "      <th>members</th>\n",
       "    </tr>\n",
       "    <tr>\n",
       "      <th>anime_id</th>\n",
       "      <th></th>\n",
       "      <th></th>\n",
       "      <th></th>\n",
       "      <th></th>\n",
       "      <th></th>\n",
       "      <th></th>\n",
       "    </tr>\n",
       "  </thead>\n",
       "  <tbody>\n",
       "    <tr>\n",
       "      <th>32281</th>\n",
       "      <td>Kimi no Na wa.</td>\n",
       "      <td>Drama, Romance, School, Supernatural</td>\n",
       "      <td>Movie</td>\n",
       "      <td>1</td>\n",
       "      <td>9.37</td>\n",
       "      <td>200630</td>\n",
       "    </tr>\n",
       "    <tr>\n",
       "      <th>5114</th>\n",
       "      <td>Fullmetal Alchemist: Brotherhood</td>\n",
       "      <td>Action, Adventure, Drama, Fantasy, Magic, Mili...</td>\n",
       "      <td>TV</td>\n",
       "      <td>64</td>\n",
       "      <td>9.26</td>\n",
       "      <td>793665</td>\n",
       "    </tr>\n",
       "    <tr>\n",
       "      <th>28977</th>\n",
       "      <td>Gintama°</td>\n",
       "      <td>Action, Comedy, Historical, Parody, Samurai, S...</td>\n",
       "      <td>TV</td>\n",
       "      <td>51</td>\n",
       "      <td>9.25</td>\n",
       "      <td>114262</td>\n",
       "    </tr>\n",
       "    <tr>\n",
       "      <th>9253</th>\n",
       "      <td>Steins;Gate</td>\n",
       "      <td>Sci-Fi, Thriller</td>\n",
       "      <td>TV</td>\n",
       "      <td>24</td>\n",
       "      <td>9.17</td>\n",
       "      <td>673572</td>\n",
       "    </tr>\n",
       "    <tr>\n",
       "      <th>9969</th>\n",
       "      <td>Gintama'</td>\n",
       "      <td>Action, Comedy, Historical, Parody, Samurai, S...</td>\n",
       "      <td>TV</td>\n",
       "      <td>51</td>\n",
       "      <td>9.16</td>\n",
       "      <td>151266</td>\n",
       "    </tr>\n",
       "  </tbody>\n",
       "</table>\n",
       "</div>"
      ],
      "text/plain": [
       "                                      name  \\\n",
       "anime_id                                     \n",
       "32281                       Kimi no Na wa.   \n",
       "5114      Fullmetal Alchemist: Brotherhood   \n",
       "28977                             Gintama°   \n",
       "9253                           Steins;Gate   \n",
       "9969                              Gintama'   \n",
       "\n",
       "                                                      genre   type  episodes  \\\n",
       "anime_id                                                                       \n",
       "32281                  Drama, Romance, School, Supernatural  Movie         1   \n",
       "5114      Action, Adventure, Drama, Fantasy, Magic, Mili...     TV        64   \n",
       "28977     Action, Comedy, Historical, Parody, Samurai, S...     TV        51   \n",
       "9253                                       Sci-Fi, Thriller     TV        24   \n",
       "9969      Action, Comedy, Historical, Parody, Samurai, S...     TV        51   \n",
       "\n",
       "          rating  members  \n",
       "anime_id                   \n",
       "32281       9.37   200630  \n",
       "5114        9.26   793665  \n",
       "28977       9.25   114262  \n",
       "9253        9.17   673572  \n",
       "9969        9.16   151266  "
      ]
     },
     "execution_count": 4,
     "metadata": {},
     "output_type": "execute_result"
    }
   ],
   "source": [
    "import os\n",
    "import pandas as pd\n",
    "\n",
    "base_url = 'https://raw.githubusercontent.com/practical-jupyter/sample-data/master/anime/'\n",
    "anime_master_csv = os.path.join(base_url, 'anime_master.csv')\n",
    "\n",
    "df = pd.read_csv(anime_master_csv, index_col='anime_id')\n",
    "df.head()"
   ]
  },
  {
   "cell_type": "code",
   "execution_count": 15,
   "metadata": {},
   "outputs": [
    {
     "data": {
      "image/png": "[encoded data removed]",
      "text/plain": [
       "<Figure size 432x288 with 1 Axes>"
      ]
     },
     "metadata": {},
     "output_type": "display_data"
    }
   ],
   "source": [
    "# 배급종별마다의 에피소드 수 시각화\n",
    "labels = []\n",
    "types_list = []\n",
    "\n",
    "# 배급종별마다의 에피소드수 정보를 리스트화\n",
    "for label, df_per_type in df.groupby('type'):\n",
    "    labels.append(label)\n",
    "    types_list.append(df_per_type['episodes'].tolist())\n",
    "    \n",
    "fig = plt.figure()\n",
    "ax = fig.add_subplot(111)\n",
    "\n",
    "ax.boxplot(types_list, labels=labels)\n",
    "\n",
    "plt.show()"
   ]
  },
  {
   "cell_type": "code",
   "execution_count": 18,
   "metadata": {},
   "outputs": [
    {
     "data": {
      "image/png": "[encoded data removed]",
      "text/plain": [
       "<Figure size 576x432 with 1 Axes>"
      ]
     },
     "metadata": {},
     "output_type": "display_data"
    }
   ],
   "source": [
    "fig = plt.figure(figsize=(8,6))\n",
    "ax = fig.add_subplot(111)\n",
    "\n",
    "ax.boxplot(types_list, labels=labels)\n",
    "\n",
    "# Y축 그리기 버뮈를 0부터 100까지 한정\n",
    "ax.set_ylim(0,100)\n",
    "\n",
    "plt.show()"
   ]
  },
  {
   "cell_type": "markdown",
   "metadata": {},
   "source": [
    "사부위점의 구체적인 값을 알고 싶다면\n",
    " - df.describe()를 활용"
   ]
  },
  {
   "cell_type": "code",
   "execution_count": 19,
   "metadata": {},
   "outputs": [
    {
     "data": {
      "text/plain": [
       "count    3330.0\n",
       "mean       37.5\n",
       "std        83.3\n",
       "min         3.0\n",
       "25%        13.0\n",
       "50%        25.0\n",
       "75%        43.0\n",
       "max      1818.0\n",
       "Name: episodes, dtype: float64"
      ]
     },
     "execution_count": 19,
     "metadata": {},
     "output_type": "execute_result"
    }
   ],
   "source": [
    "df['episodes'][df['type']=='TV'].describe().round(1)"
   ]
  },
  {
   "cell_type": "markdown",
   "metadata": {},
   "source": [
    "## 상자수염 그래프의 서식 일괄 적용하기\n",
    "### 주요서식 설정항목\n",
    "1. color 색\n",
    "2. facecolor 채움색\n",
    "3. linestyle 선종류\n",
    "4. maker 마카\n",
    "5. makerfacecolor 마카 채움색\n",
    "6. makeredgecolor 마카 테두리선 색\n",
    "7. makersize 마카 크기\n"
   ]
  },
  {
   "cell_type": "markdown",
   "metadata": {},
   "source": [
    "### 데이터 세트 작성"
   ]
  },
  {
   "cell_type": "code",
   "execution_count": 20,
   "metadata": {},
   "outputs": [],
   "source": [
    "import numpy as np\n",
    "\n",
    "np.random.seed(3)\n",
    "dataset = [np.random.normal(20 + mu, 5, 1000) for mu in range(1, 5)]"
   ]
  },
  {
   "cell_type": "markdown",
   "metadata": {},
   "source": [
    "### 서식 사전 만들기"
   ]
  },
  {
   "cell_type": "code",
   "execution_count": 21,
   "metadata": {},
   "outputs": [],
   "source": [
    "# 벗어난 값의 서식 사전\n",
    "flierprop = {\"color\": \"#EC407A\",\n",
    "             \"marker\": \"o\",\n",
    "             \"markerfacecolor\": \"#2196F3\",\n",
    "             \"markeredgecolor\": \"white\",\n",
    "             \"markersize\": 5,\n",
    "             \"linestyle\": \"None\",\n",
    "             \"linewidth\": 0.1}\n",
    "# 상자의 서식사전\n",
    "boxprop = {\"color\": \"#2196F3\", \n",
    "           \"facecolor\": \"#BBDEFB\", \n",
    "           \"linewidth\": 1, \n",
    "           \"linestyle\": \"-\"}\n",
    "# 수염의 서식사전\n",
    "whiskerprop = {\"color\": \"#2196F3\", \n",
    "               \"linewidth\": 1, \n",
    "               \"linestyle\": \"--\"}\n",
    "# 수염 끝단 서식 사전\n",
    "capprop = {\"color\": \"#2196F3\", \n",
    "           \"linewidth\": 1, \n",
    "           \"linestyle\": \":\"}\n",
    "# 중앙값 서식사전\n",
    "medianprop = {\"color\": \"#2196F3\", \n",
    "              \"linewidth\": 2, \n",
    "              \"linestyle\": \"-\"}\n",
    "# 평균값 서식사전\n",
    "meanprop = {\"color\": \"#2196F3\",\n",
    "            \"marker\": \"^\",\n",
    "            \"markerfacecolor\": \"#2196F3\",\n",
    "            \"markeredgecolor\": \"white\",\n",
    "            \"markersize\": 10,\n",
    "            \"linewidth\": 1,\n",
    "            \"linestyle\": \"\"}"
   ]
  },
  {
   "cell_type": "markdown",
   "metadata": {},
   "source": [
    "### 그리기"
   ]
  },
  {
   "cell_type": "code",
   "execution_count": 24,
   "metadata": {},
   "outputs": [
    {
     "data": {
      "image/png": "[encoded data removed]",
      "text/plain": [
       "<Figure size 432x288 with 1 Axes>"
      ]
     },
     "metadata": {},
     "output_type": "display_data"
    }
   ],
   "source": [
    "fig = plt.figure()\n",
    "ax = fig.add_subplot(111)\n",
    "\n",
    "ax.boxplot(dataset,\n",
    "            patch_artist = 'Patch', # 서식을 설정하는 경우 'Patch'를 선택\n",
    "            labels=['A','B','C','D'], # 항목 레이블\n",
    "            showmeans=True, # 평균값 그리기\n",
    "            flierprops=flierprop, # 벗어난 값 서식설정\n",
    "            boxprops=boxprop, # 상자 서식설정\n",
    "            whiskerprops=whiskerprop, # 수염 서식설정\n",
    "            capprops=capprop, # 수염 끝단 서식설정\n",
    "            medianprops=medianprop, # 중앙값 서식설정\n",
    "            meanprops=meanprop) # 평균값 서식설정\n",
    "            \n",
    "plt.show()"
   ]
  },
  {
   "cell_type": "markdown",
   "metadata": {},
   "source": [
    "## 상자마다 서식 설정하기\n",
    "상자마다 서식을 개별로 설정하는 것도 가능하다. 접두다 set_ 를 붙여서 사용한다.\n",
    "- 그림그리기\n",
    "- 상자요소 수와 같은 요소 수의 색 세트(컬러세트) (colors1, colors2) 작성\n",
    "- 위쪽과 아래쪽이 나눠져 있는 요소의 서식 설정용에 수열 리스트 n을 작성하기\n",
    "- 상자와 벗어난 값, 중앙값의 서식 설정\n",
    "- 수염과 수염의 끝단 의 서식설정하기\n",
    "- 평균값의 서식 설정하기"
   ]
  },
  {
   "cell_type": "code",
   "execution_count": 29,
   "metadata": {},
   "outputs": [
    {
     "name": "stdout",
     "output_type": "stream",
     "text": [
      "[<matplotlib.patches.PathPatch object at 0x000002B60AD5A668>, <matplotlib.patches.PathPatch object at 0x000002B60AD6D048>, <matplotlib.patches.PathPatch object at 0x000002B60AD78A20>, <matplotlib.patches.PathPatch object at 0x000002B60AD8A438>]\n"
     ]
    },
    {
     "data": {
      "image/png": "[encoded data removed]",
      "text/plain": [
       "<Figure size 432x288 with 1 Axes>"
      ]
     },
     "metadata": {},
     "output_type": "display_data"
    }
   ],
   "source": [
    "# 그림그리기\n",
    "fig = plt.figure()\n",
    "ax = fig.add_subplot(111)\n",
    "\n",
    "bp = ax.boxplot(dataset, patch_artist='Patch', labels=['A','B','C','D'],\n",
    "               meanline=True, showmeans=True)\n",
    "\n",
    "print(bp['boxes'])\n",
    "# 컬러 세트\n",
    "colors1 = [\"#2196F3\", \"#43A047\", \"#FBC02D\", \"#FB8C00\"]\n",
    "colors2 = [\"#BBDEFB\", \"#C8E6C9\", \"#FFF9C4\", \"#FFE0B2\"]\n",
    "\n",
    "# 위아래로 나뉘어진 요소에 설정하기 위해 용도의 수열\n",
    "n = [0,0,1,1,2,2,3,3]\n",
    "\n",
    "# 서식 설정\n",
    "# 상자와 벗어난 값, 중앙값의 서식 설정\n",
    "for params in zip(bp['boxes'],\n",
    "                  bp['fliers'],\n",
    "                  bp['medians'],\n",
    "                  colors1,\n",
    "                  colors2):\n",
    "    bpb, bpf, med, color1, color2 = params\n",
    "    # 상자 서식 설정\n",
    "    bpb.set_color(color1)\n",
    "    bpb.set_facecolor(color2)\n",
    "    bpb.set_linewidth(2)\n",
    "    \n",
    "    # 벗어난 값 서식 설정\n",
    "    bpf.set(marker='^', color=color2)\n",
    "    bpf.set_markeredgecolor(\"white\")\n",
    "    bpf.set_markerfacecolor(color1)\n",
    "    \n",
    "    # 중앙값 서식 설정\n",
    "    med.set_color(color1)\n",
    "    med.set_linewidth(2)\n",
    "    \n",
    "# 수염과 수염 끝단 서식 설정\n",
    "for bpc, bpw, m in zip(bp['caps'], bp['whiskers'],n):\n",
    "    bpc.set_color(colors1[m])\n",
    "    bpc.set_linewidth(2)\n",
    "    bpw.set_color(colors1[m])\n",
    "    bpw.set_linewidth(2)\n",
    "    \n",
    "# 평균값 서식 설정\n",
    "for mean, color2 in zip(bp['means'], colors2):\n",
    "    mean.set_color('grey')\n",
    "    mean.set_linewidth(2)\n",
    "    mean.set_linestyle('--')\n",
    "    \n",
    "plt.show()"
   ]
  },
  {
   "cell_type": "code",
   "execution_count": null,
   "metadata": {},
   "outputs": [],
   "source": []
  }
 ],
 "metadata": {
  "kernelspec": {
   "display_name": "Python 3",
   "language": "python",
   "name": "python3"
  },
  "language_info": {
   "codemirror_mode": {
    "name": "ipython",
    "version": 3
   },
   "file_extension": ".py",
   "mimetype": "text/x-python",
   "name": "python",
   "nbconvert_exporter": "python",
   "pygments_lexer": "ipython3",
   "version": "3.6.6"
  }
 },
 "nbformat": 4,
 "nbformat_minor": 2
}
