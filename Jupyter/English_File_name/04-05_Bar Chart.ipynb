{
 "cells": [
  {
   "cell_type": "markdown",
   "metadata": {},
   "source": [
    "# 04-5 막대그래프\n",
    "- axes.bar()"
   ]
  },
  {
   "cell_type": "code",
   "execution_count": 3,
   "metadata": {},
   "outputs": [
    {
     "data": {
      "image/png": "[encoded data removed]",
      "text/plain": [
       "<Figure size 432x288 with 1 Axes>"
      ]
     },
     "metadata": {},
     "output_type": "display_data"
    }
   ],
   "source": [
    "import matplotlib.pyplot as plt\n",
    "\n",
    "plt.style.use('ggplot')\n",
    "fig = plt.figure()\n",
    "ax = fig.add_subplot(111)\n",
    "\n",
    "x = [1,2]\n",
    "y = [1,3]\n",
    "\n",
    "ax.bar(x, y)\n",
    "\n",
    "plt.show()"
   ]
  },
  {
   "cell_type": "code",
   "execution_count": 4,
   "metadata": {},
   "outputs": [
    {
     "data": {
      "image/png": "[encoded data removed]",
      "text/plain": [
       "<Figure size 432x288 with 1 Axes>"
      ]
     },
     "metadata": {},
     "output_type": "display_data"
    }
   ],
   "source": [
    "# 횡축의 눈금에 레이블 설정\n",
    "fig = plt.figure()\n",
    "ax = fig.add_subplot(111)\n",
    "\n",
    "labels = ['apple','orange']\n",
    "ax.bar(x, y, tick_label = labels)\n",
    "\n",
    "plt.show()"
   ]
  },
  {
   "cell_type": "code",
   "execution_count": 7,
   "metadata": {},
   "outputs": [
    {
     "data": {
      "image/png": "[encoded data removed]",
      "text/plain": [
       "<Figure size 432x288 with 1 Axes>"
      ]
     },
     "metadata": {},
     "output_type": "display_data"
    }
   ],
   "source": [
    "# 그린 후에 문자열레이블 추가\n",
    "fig = plt.figure()\n",
    "ax = fig.add_subplot(111)\n",
    "\n",
    "ax.bar(x, y)\n",
    "\n",
    "# x축의 축눈금과 축눈금 레이블\n",
    "ax.set_xticks(x)\n",
    "ax.set_xticklabels(labels)\n",
    "\n",
    "plt.show()"
   ]
  },
  {
   "cell_type": "markdown",
   "metadata": {},
   "source": [
    "수평 막대그래프를 작성하는 경우"
   ]
  },
  {
   "cell_type": "code",
   "execution_count": 8,
   "metadata": {},
   "outputs": [
    {
     "data": {
      "image/png": "[encoded data removed]",
      "text/plain": [
       "<Figure size 432x288 with 1 Axes>"
      ]
     },
     "metadata": {},
     "output_type": "display_data"
    }
   ],
   "source": [
    "fig = plt.figure()\n",
    "ax = fig.add_subplot(111)\n",
    "\n",
    "ax.barh(x, y, tick_label=labels)\n",
    "\n",
    "plt.show()"
   ]
  },
  {
   "cell_type": "markdown",
   "metadata": {},
   "source": [
    "## 막대그래프 활용하기"
   ]
  },
  {
   "cell_type": "code",
   "execution_count": 10,
   "metadata": {},
   "outputs": [
    {
     "data": {
      "text/html": [
       "<div>\n",
       "<style scoped>\n",
       "    .dataframe tbody tr th:only-of-type {\n",
       "        vertical-align: middle;\n",
       "    }\n",
       "\n",
       "    .dataframe tbody tr th {\n",
       "        vertical-align: top;\n",
       "    }\n",
       "\n",
       "    .dataframe thead th {\n",
       "        text-align: right;\n",
       "    }\n",
       "</style>\n",
       "<table border=\"1\" class=\"dataframe\">\n",
       "  <thead>\n",
       "    <tr style=\"text-align: right;\">\n",
       "      <th></th>\n",
       "      <th>anime_id</th>\n",
       "      <th>name</th>\n",
       "      <th>genre</th>\n",
       "      <th>type</th>\n",
       "      <th>episodes</th>\n",
       "      <th>rating</th>\n",
       "      <th>members</th>\n",
       "    </tr>\n",
       "  </thead>\n",
       "  <tbody>\n",
       "    <tr>\n",
       "      <th>0</th>\n",
       "      <td>32281</td>\n",
       "      <td>Kimi no Na wa.</td>\n",
       "      <td>Drama, Romance, School, Supernatural</td>\n",
       "      <td>Movie</td>\n",
       "      <td>1</td>\n",
       "      <td>9.37</td>\n",
       "      <td>200630</td>\n",
       "    </tr>\n",
       "    <tr>\n",
       "      <th>1</th>\n",
       "      <td>5114</td>\n",
       "      <td>Fullmetal Alchemist: Brotherhood</td>\n",
       "      <td>Action, Adventure, Drama, Fantasy, Magic, Mili...</td>\n",
       "      <td>TV</td>\n",
       "      <td>64</td>\n",
       "      <td>9.26</td>\n",
       "      <td>793665</td>\n",
       "    </tr>\n",
       "    <tr>\n",
       "      <th>2</th>\n",
       "      <td>28977</td>\n",
       "      <td>Gintama°</td>\n",
       "      <td>Action, Comedy, Historical, Parody, Samurai, S...</td>\n",
       "      <td>TV</td>\n",
       "      <td>51</td>\n",
       "      <td>9.25</td>\n",
       "      <td>114262</td>\n",
       "    </tr>\n",
       "    <tr>\n",
       "      <th>3</th>\n",
       "      <td>9253</td>\n",
       "      <td>Steins;Gate</td>\n",
       "      <td>Sci-Fi, Thriller</td>\n",
       "      <td>TV</td>\n",
       "      <td>24</td>\n",
       "      <td>9.17</td>\n",
       "      <td>673572</td>\n",
       "    </tr>\n",
       "    <tr>\n",
       "      <th>4</th>\n",
       "      <td>9969</td>\n",
       "      <td>Gintama'</td>\n",
       "      <td>Action, Comedy, Historical, Parody, Samurai, S...</td>\n",
       "      <td>TV</td>\n",
       "      <td>51</td>\n",
       "      <td>9.16</td>\n",
       "      <td>151266</td>\n",
       "    </tr>\n",
       "  </tbody>\n",
       "</table>\n",
       "</div>"
      ],
      "text/plain": [
       "   anime_id                              name  \\\n",
       "0     32281                    Kimi no Na wa.   \n",
       "1      5114  Fullmetal Alchemist: Brotherhood   \n",
       "2     28977                          Gintama°   \n",
       "3      9253                       Steins;Gate   \n",
       "4      9969                          Gintama'   \n",
       "\n",
       "                                               genre   type  episodes  rating  \\\n",
       "0               Drama, Romance, School, Supernatural  Movie         1    9.37   \n",
       "1  Action, Adventure, Drama, Fantasy, Magic, Mili...     TV        64    9.26   \n",
       "2  Action, Comedy, Historical, Parody, Samurai, S...     TV        51    9.25   \n",
       "3                                   Sci-Fi, Thriller     TV        24    9.17   \n",
       "4  Action, Comedy, Historical, Parody, Samurai, S...     TV        51    9.16   \n",
       "\n",
       "   members  \n",
       "0   200630  \n",
       "1   793665  \n",
       "2   114262  \n",
       "3   673572  \n",
       "4   151266  "
      ]
     },
     "execution_count": 10,
     "metadata": {},
     "output_type": "execute_result"
    }
   ],
   "source": [
    "import os\n",
    "import pandas as pd\n",
    "\n",
    "base_url = 'https://raw.githubusercontent.com/practical-jupyter/sample-data/master/anime/'\n",
    "anime_master_csv = os.path.join(base_url, 'anime_master.csv')\n",
    "dfac = pd.read_csv(anime_master_csv)\n",
    "dfac.head()"
   ]
  },
  {
   "cell_type": "markdown",
   "metadata": {},
   "source": [
    "배급종별마다의 멤버수의 합계값을 추출해서 막대그래프로 그려보자\n",
    " - x값은 배급종별, y값은 배급종별마다의 합계 맴버수\n",
    " - x -> len()함수로 데이터수를 계수하고 range()로 그범위의 정수열을 생성\n",
    " - x축레이블에는 series의 인덱스를 부여"
   ]
  },
  {
   "cell_type": "code",
   "execution_count": 13,
   "metadata": {},
   "outputs": [
    {
     "data": {
      "image/png": "[encoded data removed]",
      "text/plain": [
       "<Figure size 432x288 with 1 Axes>"
      ]
     },
     "metadata": {},
     "output_type": "display_data"
    }
   ],
   "source": [
    "fig = plt.figure()\n",
    "ax = fig.add_subplot(111)\n",
    "\n",
    "y = dfac.groupby('type').sum()['members']\n",
    "x = range(len(y))\n",
    "\n",
    "xlabels = y.index\n",
    "ax.bar(x, y, tick_label=xlabels)\n",
    "ax.set_ylabel('합계 멤버수')\n",
    "\n",
    "plt.show()"
   ]
  },
  {
   "cell_type": "markdown",
   "metadata": {},
   "source": [
    "여러가지 그룹에 대한 막대그래프 작성하기"
   ]
  },
  {
   "cell_type": "code",
   "execution_count": 20,
   "metadata": {},
   "outputs": [
    {
     "data": {
      "text/plain": [
       "<Figure size 432x288 with 0 Axes>"
      ]
     },
     "metadata": {},
     "output_type": "display_data"
    },
    {
     "data": {
      "image/png": "[encoded data removed]",
      "text/plain": [
       "<Figure size 432x288 with 1 Axes>"
      ]
     },
     "metadata": {},
     "output_type": "display_data"
    }
   ],
   "source": [
    "import numpy as np\n",
    "\n",
    "x = [1,2]\n",
    "y1, y2, y3 = [1,2],[2,4],[3,6]\n",
    "\n",
    "fig = plt.figure()\n",
    "# ax = add_subplot(111)\n",
    "df = pd.DataFrame([y1, y2, y3])\n",
    "df\n",
    "\n",
    "df.T.plot.bar()\n",
    "\n",
    "plt.show()"
   ]
  },
  {
   "cell_type": "markdown",
   "metadata": {},
   "source": [
    "여러 그룹의 막대그래프 활용하기"
   ]
  },
  {
   "cell_type": "code",
   "execution_count": 22,
   "metadata": {},
   "outputs": [
    {
     "data": {
      "text/html": [
       "<div>\n",
       "<style scoped>\n",
       "    .dataframe tbody tr th:only-of-type {\n",
       "        vertical-align: middle;\n",
       "    }\n",
       "\n",
       "    .dataframe tbody tr th {\n",
       "        vertical-align: top;\n",
       "    }\n",
       "\n",
       "    .dataframe thead th {\n",
       "        text-align: right;\n",
       "    }\n",
       "</style>\n",
       "<table border=\"1\" class=\"dataframe\">\n",
       "  <thead>\n",
       "    <tr style=\"text-align: right;\">\n",
       "      <th></th>\n",
       "      <th>Movie</th>\n",
       "      <th>Music</th>\n",
       "      <th>ONA</th>\n",
       "      <th>OVA</th>\n",
       "      <th>Special</th>\n",
       "      <th>TV</th>\n",
       "    </tr>\n",
       "    <tr>\n",
       "      <th>genre</th>\n",
       "      <th></th>\n",
       "      <th></th>\n",
       "      <th></th>\n",
       "      <th></th>\n",
       "      <th></th>\n",
       "      <th></th>\n",
       "    </tr>\n",
       "  </thead>\n",
       "  <tbody>\n",
       "    <tr>\n",
       "      <th>Comedy</th>\n",
       "      <td>7293127.0</td>\n",
       "      <td>20860.0</td>\n",
       "      <td>1477266.0</td>\n",
       "      <td>5614758.0</td>\n",
       "      <td>6659293.0</td>\n",
       "      <td>65420862.0</td>\n",
       "    </tr>\n",
       "    <tr>\n",
       "      <th>Action</th>\n",
       "      <td>10224960.0</td>\n",
       "      <td>77054.0</td>\n",
       "      <td>524907.0</td>\n",
       "      <td>5793680.0</td>\n",
       "      <td>3412689.0</td>\n",
       "      <td>63364032.0</td>\n",
       "    </tr>\n",
       "    <tr>\n",
       "      <th>Drama</th>\n",
       "      <td>9034099.0</td>\n",
       "      <td>100734.0</td>\n",
       "      <td>188427.0</td>\n",
       "      <td>3043374.0</td>\n",
       "      <td>1915578.0</td>\n",
       "      <td>41011557.0</td>\n",
       "    </tr>\n",
       "    <tr>\n",
       "      <th>Romance</th>\n",
       "      <td>5245386.0</td>\n",
       "      <td>42811.0</td>\n",
       "      <td>411331.0</td>\n",
       "      <td>3143167.0</td>\n",
       "      <td>2015820.0</td>\n",
       "      <td>40703388.0</td>\n",
       "    </tr>\n",
       "    <tr>\n",
       "      <th>Supernatural</th>\n",
       "      <td>5452779.0</td>\n",
       "      <td>9189.0</td>\n",
       "      <td>192989.0</td>\n",
       "      <td>2696715.0</td>\n",
       "      <td>2336723.0</td>\n",
       "      <td>38956520.0</td>\n",
       "    </tr>\n",
       "  </tbody>\n",
       "</table>\n",
       "</div>"
      ],
      "text/plain": [
       "                   Movie     Music        ONA        OVA    Special  \\\n",
       "genre                                                                 \n",
       "Comedy         7293127.0   20860.0  1477266.0  5614758.0  6659293.0   \n",
       "Action        10224960.0   77054.0   524907.0  5793680.0  3412689.0   \n",
       "Drama          9034099.0  100734.0   188427.0  3043374.0  1915578.0   \n",
       "Romance        5245386.0   42811.0   411331.0  3143167.0  2015820.0   \n",
       "Supernatural   5452779.0    9189.0   192989.0  2696715.0  2336723.0   \n",
       "\n",
       "                      TV  \n",
       "genre                     \n",
       "Comedy        65420862.0  \n",
       "Action        63364032.0  \n",
       "Drama         41011557.0  \n",
       "Romance       40703388.0  \n",
       "Supernatural  38956520.0  "
      ]
     },
     "execution_count": 22,
     "metadata": {},
     "output_type": "execute_result"
    }
   ],
   "source": [
    "base_url = 'https://raw.githubusercontent.com/practical-jupyter/sample-data/master/anime/'\n",
    "anime_genre_top10_pivoted_csv = os.path.join(base_url, 'anime_genre_top10_pivoted.csv')\n",
    "\n",
    "dfag = pd.read_csv(anime_genre_top10_pivoted_csv, index_col='genre')\n",
    "dfag.head()"
   ]
  },
  {
   "cell_type": "code",
   "execution_count": 24,
   "metadata": {},
   "outputs": [
    {
     "data": {
      "text/plain": [
       "<matplotlib.axes._subplots.AxesSubplot at 0x22eb870ccf8>"
      ]
     },
     "execution_count": 24,
     "metadata": {},
     "output_type": "execute_result"
    },
    {
     "data": {
      "image/png": "[encoded data removed]",
      "text/plain": [
       "<Figure size 432x288 with 1 Axes>"
      ]
     },
     "metadata": {},
     "output_type": "display_data"
    }
   ],
   "source": [
    "# 배급종별 장르별 막대그래프 그리기(df.plot.bar 이용)\n",
    "dfag.plot.bar()"
   ]
  },
  {
   "cell_type": "code",
   "execution_count": 28,
   "metadata": {},
   "outputs": [
    {
     "data": {
      "image/png": "[encoded data removed]",
      "text/plain": [
       "<Figure size 1296x216 with 1 Axes>"
      ]
     },
     "metadata": {},
     "output_type": "display_data"
    }
   ],
   "source": [
    "# 배급종별 장르별 막대그래프 그리기(ax.bar이용)\n",
    "fig = plt.figure(figsize=(18,3))\n",
    "ax = fig.add_subplot(111)\n",
    "\n",
    "wt = np.array(range(len(dfag)))\n",
    "w = 0.1\n",
    "\n",
    "for i in dfag.columns:\n",
    "    ax.bar(wt, dfag[i], width = w, label=i)\n",
    "    wt = wt + w\n",
    "    \n",
    "ax.set_xticks(np.array(range(len(dfag) + 2)))\n",
    "ax.set_xticklabels(dfag.index, ha = 'left')\n",
    "ax.set_ylabel('누적멤버수')\n",
    "ax.legend()\n",
    "\n",
    "plt.show()"
   ]
  },
  {
   "cell_type": "code",
   "execution_count": 29,
   "metadata": {},
   "outputs": [
    {
     "data": {
      "image/png": "[encoded data removed]",
      "text/plain": [
       "<Figure size 1296x216 with 1 Axes>"
      ]
     },
     "metadata": {},
     "output_type": "display_data"
    }
   ],
   "source": [
    "# 가독성을 좋게 하기 위해 log scale로 그림\n",
    "fig = plt.figure(figsize=(18,3))\n",
    "ax = fig.add_subplot(111)\n",
    "\n",
    "wt = np.array(range(len(dfag)))\n",
    "w = 0.1\n",
    "\n",
    "for i in dfag.columns:\n",
    "    ax.bar(wt, dfag[i], width = w, label=i)\n",
    "    wt = wt + w\n",
    "    \n",
    "ax.set_xticks(np.array(range(len(dfag) + 2)))\n",
    "ax.set_xticklabels(dfag.index, ha = 'left')\n",
    "ax.set_ylabel('누적멤버수')\n",
    "ax.set_yscale('log')\n",
    "ax.legend()\n",
    "\n",
    "plt.show()"
   ]
  },
  {
   "cell_type": "markdown",
   "metadata": {},
   "source": [
    "누적 막대그래프 작성하기\n",
    "1. y1, y2, y3의 합을 그린다.\n",
    "2. y2, y3의 합을 겹쳐서 그린다\n",
    "3. y1을 겹쳐서 그린다.\n",
    "\n",
    "(※ 간단하게 작성하는 방법은 plot.bar()의 stacked=True를 지정하면 된다)"
   ]
  },
  {
   "cell_type": "code",
   "execution_count": 41,
   "metadata": {},
   "outputs": [
    {
     "data": {
      "image/png": "[encoded data removed]",
      "text/plain": [
       "<Figure size 720x216 with 1 Axes>"
      ]
     },
     "metadata": {},
     "output_type": "display_data"
    }
   ],
   "source": [
    "# 데이터 셋트 작성\n",
    "x = np.arange(5)\n",
    "np.random.seed(0)\n",
    "y = np.random.rand(15).reshape((3,5))\n",
    "y1, y2, y3 = y\n",
    "\n",
    "y1b = np.array(y1)\n",
    "y2b = y1b + np.array(y2)\n",
    "y3b = y2b + np.array(y3)\n",
    "\n",
    "# 누적막대그래프 그리기\n",
    "fig = plt.figure(figsize=(10,3))\n",
    "ax = fig.add_subplot(111)\n",
    "\n",
    "ax.bar(x, y3b, label='y3')\n",
    "ax.bar(x, y2b, label='y2')\n",
    "ax.bar(x, y1b, label='y1')\n",
    "\n",
    "ax.legend()\n",
    "\n",
    "plt.show()"
   ]
  },
  {
   "cell_type": "markdown",
   "metadata": {},
   "source": [
    "누적 막대그래프 활용하기"
   ]
  },
  {
   "cell_type": "code",
   "execution_count": 43,
   "metadata": {},
   "outputs": [
    {
     "data": {
      "text/html": [
       "<div>\n",
       "<style scoped>\n",
       "    .dataframe tbody tr th:only-of-type {\n",
       "        vertical-align: middle;\n",
       "    }\n",
       "\n",
       "    .dataframe tbody tr th {\n",
       "        vertical-align: top;\n",
       "    }\n",
       "\n",
       "    .dataframe thead th {\n",
       "        text-align: right;\n",
       "    }\n",
       "</style>\n",
       "<table border=\"1\" class=\"dataframe\">\n",
       "  <thead>\n",
       "    <tr style=\"text-align: right;\">\n",
       "      <th></th>\n",
       "      <th>Movie</th>\n",
       "      <th>Music</th>\n",
       "      <th>ONA</th>\n",
       "      <th>OVA</th>\n",
       "      <th>Special</th>\n",
       "      <th>TV</th>\n",
       "    </tr>\n",
       "    <tr>\n",
       "      <th>genre</th>\n",
       "      <th></th>\n",
       "      <th></th>\n",
       "      <th></th>\n",
       "      <th></th>\n",
       "      <th></th>\n",
       "      <th></th>\n",
       "    </tr>\n",
       "  </thead>\n",
       "  <tbody>\n",
       "    <tr>\n",
       "      <th>Comedy</th>\n",
       "      <td>7293127.0</td>\n",
       "      <td>20860.0</td>\n",
       "      <td>1477266.0</td>\n",
       "      <td>5614758.0</td>\n",
       "      <td>6659293.0</td>\n",
       "      <td>65420862.0</td>\n",
       "    </tr>\n",
       "    <tr>\n",
       "      <th>Action</th>\n",
       "      <td>10224960.0</td>\n",
       "      <td>77054.0</td>\n",
       "      <td>524907.0</td>\n",
       "      <td>5793680.0</td>\n",
       "      <td>3412689.0</td>\n",
       "      <td>63364032.0</td>\n",
       "    </tr>\n",
       "    <tr>\n",
       "      <th>Drama</th>\n",
       "      <td>9034099.0</td>\n",
       "      <td>100734.0</td>\n",
       "      <td>188427.0</td>\n",
       "      <td>3043374.0</td>\n",
       "      <td>1915578.0</td>\n",
       "      <td>41011557.0</td>\n",
       "    </tr>\n",
       "    <tr>\n",
       "      <th>Romance</th>\n",
       "      <td>5245386.0</td>\n",
       "      <td>42811.0</td>\n",
       "      <td>411331.0</td>\n",
       "      <td>3143167.0</td>\n",
       "      <td>2015820.0</td>\n",
       "      <td>40703388.0</td>\n",
       "    </tr>\n",
       "    <tr>\n",
       "      <th>Supernatural</th>\n",
       "      <td>5452779.0</td>\n",
       "      <td>9189.0</td>\n",
       "      <td>192989.0</td>\n",
       "      <td>2696715.0</td>\n",
       "      <td>2336723.0</td>\n",
       "      <td>38956520.0</td>\n",
       "    </tr>\n",
       "    <tr>\n",
       "      <th>Fantasy</th>\n",
       "      <td>8019406.0</td>\n",
       "      <td>43962.0</td>\n",
       "      <td>188937.0</td>\n",
       "      <td>2754224.0</td>\n",
       "      <td>2504131.0</td>\n",
       "      <td>34932563.0</td>\n",
       "    </tr>\n",
       "    <tr>\n",
       "      <th>Shounen</th>\n",
       "      <td>5698808.0</td>\n",
       "      <td>NaN</td>\n",
       "      <td>97833.0</td>\n",
       "      <td>3861296.0</td>\n",
       "      <td>2591988.0</td>\n",
       "      <td>35532847.0</td>\n",
       "    </tr>\n",
       "    <tr>\n",
       "      <th>School</th>\n",
       "      <td>1512533.0</td>\n",
       "      <td>5496.0</td>\n",
       "      <td>523223.0</td>\n",
       "      <td>2417660.0</td>\n",
       "      <td>2661425.0</td>\n",
       "      <td>35489099.0</td>\n",
       "    </tr>\n",
       "    <tr>\n",
       "      <th>Adventure</th>\n",
       "      <td>9485223.0</td>\n",
       "      <td>42829.0</td>\n",
       "      <td>70431.0</td>\n",
       "      <td>2373765.0</td>\n",
       "      <td>2052024.0</td>\n",
       "      <td>27529975.0</td>\n",
       "    </tr>\n",
       "    <tr>\n",
       "      <th>Sci-Fi</th>\n",
       "      <td>6967146.0</td>\n",
       "      <td>154801.0</td>\n",
       "      <td>415311.0</td>\n",
       "      <td>3358525.0</td>\n",
       "      <td>1616450.0</td>\n",
       "      <td>28072322.0</td>\n",
       "    </tr>\n",
       "  </tbody>\n",
       "</table>\n",
       "</div>"
      ],
      "text/plain": [
       "                   Movie     Music        ONA        OVA    Special  \\\n",
       "genre                                                                 \n",
       "Comedy         7293127.0   20860.0  1477266.0  5614758.0  6659293.0   \n",
       "Action        10224960.0   77054.0   524907.0  5793680.0  3412689.0   \n",
       "Drama          9034099.0  100734.0   188427.0  3043374.0  1915578.0   \n",
       "Romance        5245386.0   42811.0   411331.0  3143167.0  2015820.0   \n",
       "Supernatural   5452779.0    9189.0   192989.0  2696715.0  2336723.0   \n",
       "Fantasy        8019406.0   43962.0   188937.0  2754224.0  2504131.0   \n",
       "Shounen        5698808.0       NaN    97833.0  3861296.0  2591988.0   \n",
       "School         1512533.0    5496.0   523223.0  2417660.0  2661425.0   \n",
       "Adventure      9485223.0   42829.0    70431.0  2373765.0  2052024.0   \n",
       "Sci-Fi         6967146.0  154801.0   415311.0  3358525.0  1616450.0   \n",
       "\n",
       "                      TV  \n",
       "genre                     \n",
       "Comedy        65420862.0  \n",
       "Action        63364032.0  \n",
       "Drama         41011557.0  \n",
       "Romance       40703388.0  \n",
       "Supernatural  38956520.0  \n",
       "Fantasy       34932563.0  \n",
       "Shounen       35532847.0  \n",
       "School        35489099.0  \n",
       "Adventure     27529975.0  \n",
       "Sci-Fi        28072322.0  "
      ]
     },
     "execution_count": 43,
     "metadata": {},
     "output_type": "execute_result"
    }
   ],
   "source": [
    "dfag"
   ]
  },
  {
   "cell_type": "code",
   "execution_count": 45,
   "metadata": {},
   "outputs": [
    {
     "data": {
      "image/png": "[encoded data removed]",
      "text/plain": [
       "<Figure size 1080x216 with 1 Axes>"
      ]
     },
     "metadata": {},
     "output_type": "display_data"
    }
   ],
   "source": [
    "# 배급종별 장르별 막대그래프 그리기\n",
    "fig = plt.figure(figsize=(15,3))\n",
    "ax = fig.add_subplot(111)\n",
    "\n",
    "rows, cols = len(dfag), len(dfag.columns)\n",
    "x = range(rows)\n",
    "\n",
    "for i, t in enumerate(dfag.columns):\n",
    "    # i열부터 마지막까지의 합을 계산\n",
    "    y = dfag.iloc[:, i: cols].sum(axis=1)\n",
    "    \n",
    "    ax.bar(x, y, label=t)\n",
    "    \n",
    "ax.set_xticks(range(rows + 2))\n",
    "ax.set_xticklabels(dfag.index)\n",
    "ax.set_ylabel('누적 멤버수')\n",
    "ax.legend()\n",
    "\n",
    "plt.show()"
   ]
  }
 ],
 "metadata": {
  "kernelspec": {
   "display_name": "Python 3",
   "language": "python",
   "name": "python3"
  },
  "language_info": {
   "codemirror_mode": {
    "name": "ipython",
    "version": 3
   },
   "file_extension": ".py",
   "mimetype": "text/x-python",
   "name": "python",
   "nbconvert_exporter": "python",
   "pygments_lexer": "ipython3",
   "version": "3.6.6"
  }
 },
 "nbformat": 4,
 "nbformat_minor": 2
}
