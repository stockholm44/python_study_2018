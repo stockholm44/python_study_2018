{
 "cells": [
  {
   "cell_type": "markdown",
   "metadata": {},
   "source": [
    "# 3-9 시계열 데이터의 처리"
   ]
  },
  {
   "cell_type": "code",
   "execution_count": 2,
   "metadata": {},
   "outputs": [
    {
     "data": {
      "text/html": [
       "<div>\n",
       "<style scoped>\n",
       "    .dataframe tbody tr th:only-of-type {\n",
       "        vertical-align: middle;\n",
       "    }\n",
       "\n",
       "    .dataframe tbody tr th {\n",
       "        vertical-align: top;\n",
       "    }\n",
       "\n",
       "    .dataframe thead th {\n",
       "        text-align: right;\n",
       "    }\n",
       "</style>\n",
       "<table border=\"1\" class=\"dataframe\">\n",
       "  <thead>\n",
       "    <tr style=\"text-align: right;\">\n",
       "      <th></th>\n",
       "      <th>TOEI ANIMATION</th>\n",
       "      <th>IG Port</th>\n",
       "    </tr>\n",
       "    <tr>\n",
       "      <th>Date</th>\n",
       "      <th></th>\n",
       "      <th></th>\n",
       "    </tr>\n",
       "  </thead>\n",
       "  <tbody>\n",
       "    <tr>\n",
       "      <th>2015-01-01</th>\n",
       "      <td>3356.86</td>\n",
       "      <td>1201.51</td>\n",
       "    </tr>\n",
       "    <tr>\n",
       "      <th>2015-01-02</th>\n",
       "      <td>3356.86</td>\n",
       "      <td>1201.51</td>\n",
       "    </tr>\n",
       "    <tr>\n",
       "      <th>2015-01-05</th>\n",
       "      <td>3396.12</td>\n",
       "      <td>1218.44</td>\n",
       "    </tr>\n",
       "    <tr>\n",
       "      <th>2015-01-06</th>\n",
       "      <td>3361.77</td>\n",
       "      <td>1201.51</td>\n",
       "    </tr>\n",
       "    <tr>\n",
       "      <th>2015-01-07</th>\n",
       "      <td>3297.97</td>\n",
       "      <td>1202.51</td>\n",
       "    </tr>\n",
       "  </tbody>\n",
       "</table>\n",
       "</div>"
      ],
      "text/plain": [
       "            TOEI ANIMATION  IG Port\n",
       "Date                               \n",
       "2015-01-01         3356.86  1201.51\n",
       "2015-01-02         3356.86  1201.51\n",
       "2015-01-05         3396.12  1218.44\n",
       "2015-01-06         3361.77  1201.51\n",
       "2015-01-07         3297.97  1202.51"
      ]
     },
     "execution_count": 2,
     "metadata": {},
     "output_type": "execute_result"
    }
   ],
   "source": [
    "import os\n",
    "import pandas as pd\n",
    "\n",
    "base_url = 'https://raw.githubusercontent.com/practical-jupyter/sample-data/master/anime/'\n",
    "anime_stock_price_csv = os.path.join(base_url, 'anime_stock_price.csv')\n",
    "\n",
    "df = pd.read_csv(anime_stock_price_csv, index_col=0, parse_dates=['Date'])\n",
    "df.head()"
   ]
  },
  {
   "cell_type": "markdown",
   "metadata": {},
   "source": [
    "### 시계열 데이터로 사용된 함수\n",
    "- pct_change() 메서드를 사용하여 하나 전의 값으로부터의 변화율을 산출한다."
   ]
  },
  {
   "cell_type": "code",
   "execution_count": 3,
   "metadata": {},
   "outputs": [
    {
     "data": {
      "text/plain": [
       "Date\n",
       "2015-01-01         NaN\n",
       "2015-01-02    0.000000\n",
       "2015-01-05    0.011695\n",
       "2015-01-06   -0.010114\n",
       "2015-01-07   -0.018978\n",
       "                ...   \n",
       "2016-12-26    0.001725\n",
       "2016-12-27    0.010326\n",
       "2016-12-28    0.015333\n",
       "2016-12-29    0.013422\n",
       "2016-12-30    0.000000\n",
       "Name: TOEI ANIMATION, Length: 522, dtype: float64"
      ]
     },
     "execution_count": 3,
     "metadata": {},
     "output_type": "execute_result"
    }
   ],
   "source": [
    "pd.options.display.max_rows = 10 # pandas로 실행하는 행 수를 지정\n",
    "\n",
    "pct_change = df['TOEI ANIMATION'].pct_change()\n",
    "pct_change"
   ]
  },
  {
   "cell_type": "markdown",
   "metadata": {},
   "source": [
    "cum_prod() 메서드를 사용하여 누적값을 산출할 수 있다."
   ]
  },
  {
   "cell_type": "code",
   "execution_count": 15,
   "metadata": {},
   "outputs": [
    {
     "data": {
      "text/plain": [
       "Date\n",
       "2015-01-01    1.000000\n",
       "2015-01-02    1.000000\n",
       "2015-01-05    1.011695\n",
       "2015-01-06    1.001463\n",
       "2015-01-07    0.982457\n",
       "                ...   \n",
       "2016-12-26    1.722833\n",
       "2016-12-27    1.740624\n",
       "2016-12-28    1.767312\n",
       "2016-12-29    1.791034\n",
       "2016-12-30    1.791034\n",
       "Name: TOEI ANIMATION, Length: 522, dtype: float64"
      ]
     },
     "execution_count": 15,
     "metadata": {},
     "output_type": "execute_result"
    }
   ],
   "source": [
    "cumulative_returns = (pct_change + 1).cumprod()\n",
    "cumulative_returns[0] = 1\n",
    "cumulative_returns"
   ]
  },
  {
   "cell_type": "markdown",
   "metadata": {},
   "source": [
    "rolling() 메서드를 사용하여 데이터의 범위를 이동시키면서 함수를 적용할 수 있다. "
   ]
  },
  {
   "cell_type": "code",
   "execution_count": 17,
   "metadata": {},
   "outputs": [
    {
     "data": {
      "text/plain": [
       "Date\n",
       "2015-01-01         NaN\n",
       "2015-01-02         NaN\n",
       "2015-01-05         NaN\n",
       "2015-01-06         NaN\n",
       "2015-01-07    3353.916\n",
       "                ...   \n",
       "2016-12-26    5793.260\n",
       "2016-12-27    5799.232\n",
       "2016-12-28    5821.132\n",
       "2016-12-29    5868.912\n",
       "2016-12-30    5916.692\n",
       "Name: TOEI ANIMATION, Length: 522, dtype: float64"
      ]
     },
     "execution_count": 17,
     "metadata": {},
     "output_type": "execute_result"
    }
   ],
   "source": [
    "df['TOEI ANIMATION'].rolling(5).mean()"
   ]
  },
  {
   "cell_type": "markdown",
   "metadata": {},
   "source": [
    "위 예제는 mean() 메서드를 사용하고 있지만 임의의 함수를 적용할 수 있다."
   ]
  },
  {
   "cell_type": "code",
   "execution_count": 20,
   "metadata": {},
   "outputs": [
    {
     "name": "stderr",
     "output_type": "stream",
     "text": [
      "C:\\Anaconda3\\lib\\site-packages\\ipykernel_launcher.py:7: FutureWarning: Currently, 'apply' passes the values as ndarrays to the applied function. In the future, this will change to passing it as Series objects. You need to specify 'raw=True' to keep the current behaviour, and you can pass 'raw=False' to silence this warning\n",
      "  import sys\n"
     ]
    },
    {
     "data": {
      "text/plain": [
       "Date\n",
       "2015-01-01         NaN\n",
       "2015-01-02         NaN\n",
       "2015-01-05         NaN\n",
       "2015-01-06         NaN\n",
       "2015-01-07         NaN\n",
       "                ...   \n",
       "2016-12-26    0.158355\n",
       "2016-12-27    0.163235\n",
       "2016-12-28    0.170891\n",
       "2016-12-29    0.172681\n",
       "2016-12-30    0.151983\n",
       "Name: TOEI ANIMATION, Length: 522, dtype: float64"
      ]
     },
     "execution_count": 20,
     "metadata": {},
     "output_type": "execute_result"
    }
   ],
   "source": [
    "import numpy as np\n",
    "\n",
    "def historical_volatility(x):\n",
    "    logreturns = np.diff(np.log(x)) # 로그 수익률   np.diff 함수는 해당 array의 직전수와의 차이를 array로 돌려줌.\n",
    "    return np.sqrt(365 * logreturns.var())  # log수익의 차이들의 분산을 365로 곱하고 루트를 씌움. 즉 log 표준편차 정도될듯.\n",
    "\n",
    "df['TOEI ANIMATION'].rolling(20).apply(historical_volatility)"
   ]
  },
  {
   "cell_type": "markdown",
   "metadata": {},
   "source": [
    "## DatetimeIndex\n",
    "- DatetimeIndexsms datetime 형에 특화된 처리가 가능한 Index이다. \n",
    "- pandas.date_range() 함수는 지정한 주기의 DatetimeIndex를 작성한다.\n",
    "- start, end, periods, freq, tz(타임존), normalize(시각부분을 둥글게한다??), name(문자열로 지정한다.), \n",
    "- closed(지정한 쪽의 기간을 닫는다.left하면 마지막일시가 제외, right하면 최초일시가 제외."
   ]
  },
  {
   "cell_type": "code",
   "execution_count": 23,
   "metadata": {},
   "outputs": [
    {
     "data": {
      "text/plain": [
       "DatetimeIndex(['2017-01-01 00:00:00', '2017-01-01 01:00:00',\n",
       "               '2017-01-01 02:00:00', '2017-01-01 03:00:00',\n",
       "               '2017-01-01 04:00:00', '2017-01-01 05:00:00',\n",
       "               '2017-01-01 06:00:00', '2017-01-01 07:00:00',\n",
       "               '2017-01-01 08:00:00', '2017-01-01 09:00:00',\n",
       "               ...\n",
       "               '2017-01-31 15:00:00', '2017-01-31 16:00:00',\n",
       "               '2017-01-31 17:00:00', '2017-01-31 18:00:00',\n",
       "               '2017-01-31 19:00:00', '2017-01-31 20:00:00',\n",
       "               '2017-01-31 21:00:00', '2017-01-31 22:00:00',\n",
       "               '2017-01-31 23:00:00', '2017-02-01 00:00:00'],\n",
       "              dtype='datetime64[ns]', length=745, freq='H')"
      ]
     },
     "execution_count": 23,
     "metadata": {},
     "output_type": "execute_result"
    }
   ],
   "source": [
    "ix = pd.date_range('2017-01','2017-02',freq='1H')\n",
    "ix"
   ]
  },
  {
   "cell_type": "markdown",
   "metadata": {},
   "source": [
    "Series의 index로 사용하는 경우"
   ]
  },
  {
   "cell_type": "code",
   "execution_count": 25,
   "metadata": {},
   "outputs": [
    {
     "data": {
      "text/plain": [
       "2017-01-01 00:00:00      0\n",
       "2017-01-01 01:00:00      1\n",
       "2017-01-01 02:00:00      2\n",
       "2017-01-01 03:00:00      3\n",
       "2017-01-01 04:00:00      4\n",
       "                      ... \n",
       "2017-01-31 20:00:00    740\n",
       "2017-01-31 21:00:00    741\n",
       "2017-01-31 22:00:00    742\n",
       "2017-01-31 23:00:00    743\n",
       "2017-02-01 00:00:00    744\n",
       "Freq: H, Length: 745, dtype: int32"
      ]
     },
     "execution_count": 25,
     "metadata": {},
     "output_type": "execute_result"
    }
   ],
   "source": [
    "time_series = pd.Series(np.arange(len(ix)), index=ix)\n",
    "time_series"
   ]
  },
  {
   "cell_type": "markdown",
   "metadata": {},
   "source": [
    "### 시계열 데이터를 추출하기\n",
    "- DatetimeIndex의 인덱서에는 datetime혀오가 문자열형 양쪽을 지정할 수 있다. "
   ]
  },
  {
   "cell_type": "code",
   "execution_count": 26,
   "metadata": {},
   "outputs": [
    {
     "data": {
      "text/plain": [
       "TOEI ANIMATION    5699.74\n",
       "IG Port            822.66\n",
       "Name: 2016-01-04 00:00:00, dtype: float64"
      ]
     },
     "execution_count": 26,
     "metadata": {},
     "output_type": "execute_result"
    }
   ],
   "source": [
    "from datetime import datetime\n",
    "\n",
    "# 인덱서에 datetime형 값 지정\n",
    "df.loc[datetime(2016,1,4)]"
   ]
  },
  {
   "cell_type": "code",
   "execution_count": 28,
   "metadata": {},
   "outputs": [
    {
     "data": {
      "text/plain": [
       "TOEI ANIMATION    5699.74\n",
       "IG Port            822.66\n",
       "Name: 2016-01-04 00:00:00, dtype: float64"
      ]
     },
     "execution_count": 28,
     "metadata": {},
     "output_type": "execute_result"
    }
   ],
   "source": [
    "#인덱서에 날짜형식의 문자열을 지정1\n",
    "df.loc['2016-01-04']"
   ]
  },
  {
   "cell_type": "code",
   "execution_count": 29,
   "metadata": {},
   "outputs": [
    {
     "data": {
      "text/plain": [
       "TOEI ANIMATION    5699.74\n",
       "IG Port            822.66\n",
       "Name: 2016-01-04 00:00:00, dtype: float64"
      ]
     },
     "execution_count": 29,
     "metadata": {},
     "output_type": "execute_result"
    }
   ],
   "source": [
    "# 인덱서에 날짜형식의 문자열을 지정2\n",
    "df.loc['Jan-04-2016']"
   ]
  },
  {
   "cell_type": "markdown",
   "metadata": {},
   "source": [
    "특정 년도나 월의 데이터만 추출하는 경우"
   ]
  },
  {
   "cell_type": "code",
   "execution_count": 31,
   "metadata": {},
   "outputs": [
    {
     "name": "stdout",
     "output_type": "stream",
     "text": [
      "            TOEI ANIMATION  IG Port\n",
      "Date                               \n",
      "2015-01-01         3356.86  1201.51\n",
      "2015-01-02         3356.86  1201.51\n",
      "2015-01-05         3396.12  1218.44\n",
      "2015-01-06         3361.77  1201.51\n",
      "2015-01-07         3297.97  1202.51\n"
     ]
    }
   ],
   "source": [
    "print(df.loc['2015'].head())"
   ]
  },
  {
   "cell_type": "code",
   "execution_count": 32,
   "metadata": {},
   "outputs": [
    {
     "name": "stdout",
     "output_type": "stream",
     "text": [
      "            TOEI ANIMATION  IG Port\n",
      "Date                               \n",
      "2015-05-01         3567.29  1168.66\n",
      "2015-05-04         3567.29  1168.66\n",
      "2015-05-05         3567.29  1168.66\n",
      "2015-05-06         3567.29  1168.66\n",
      "2015-05-07         3577.18  1169.66\n"
     ]
    }
   ],
   "source": [
    "print(df.loc['2015-05'].head())"
   ]
  },
  {
   "cell_type": "code",
   "execution_count": 33,
   "metadata": {},
   "outputs": [
    {
     "name": "stdout",
     "output_type": "stream",
     "text": [
      "            TOEI ANIMATION  IG Port\n",
      "Date                               \n",
      "2015-12-01         5947.13   910.41\n",
      "2015-12-02         5917.44   896.45\n",
      "2015-12-03         5917.44   893.46\n",
      "2015-12-04         5867.97   888.47\n",
      "2015-12-07         5917.44   892.46\n",
      "...                    ...      ...\n",
      "2016-01-25         5452.36   704.99\n",
      "2016-01-26         5491.94   702.00\n",
      "2016-01-27         5521.63   721.94\n",
      "2016-01-28         5679.95   733.91\n",
      "2016-01-29         5670.06   739.89\n",
      "\n",
      "[44 rows x 2 columns]\n"
     ]
    }
   ],
   "source": [
    "# 년월등을 슬라이스하는 경우\n",
    "print(df.loc['2015-12':'2016-01'])"
   ]
  },
  {
   "cell_type": "code",
   "execution_count": 34,
   "metadata": {},
   "outputs": [
    {
     "data": {
      "text/plain": [
       "2017-01-01 09:00:00      9\n",
       "2017-01-02 09:00:00     33\n",
       "2017-01-03 09:00:00     57\n",
       "2017-01-04 09:00:00     81\n",
       "2017-01-05 09:00:00    105\n",
       "                      ... \n",
       "2017-01-27 09:00:00    633\n",
       "2017-01-28 09:00:00    657\n",
       "2017-01-29 09:00:00    681\n",
       "2017-01-30 09:00:00    705\n",
       "2017-01-31 09:00:00    729\n",
       "Freq: 24H, Length: 31, dtype: int32"
      ]
     },
     "execution_count": 34,
     "metadata": {},
     "output_type": "execute_result"
    }
   ],
   "source": [
    "# 지정한 시각만의 데이터를 추출하는 경우\n",
    "from datetime import time\n",
    "\n",
    "time_series.loc[time(9,0)]"
   ]
  },
  {
   "cell_type": "code",
   "execution_count": 35,
   "metadata": {},
   "outputs": [
    {
     "data": {
      "text/plain": [
       "2017-01-01 09:00:00      9\n",
       "2017-01-01 10:00:00     10\n",
       "2017-01-01 11:00:00     11\n",
       "2017-01-01 12:00:00     12\n",
       "2017-01-02 09:00:00     33\n",
       "                      ... \n",
       "2017-01-30 12:00:00    708\n",
       "2017-01-31 09:00:00    729\n",
       "2017-01-31 10:00:00    730\n",
       "2017-01-31 11:00:00    731\n",
       "2017-01-31 12:00:00    732\n",
       "Length: 124, dtype: int32"
      ]
     },
     "execution_count": 35,
     "metadata": {},
     "output_type": "execute_result"
    }
   ],
   "source": [
    "# 지정한 시간대만 추출하는 경우\n",
    "# between_time() 메서드를 이용하여 지정한 시간대만 추출할 수 있다.\n",
    "time_series.between_time(time(9,0),time(12,0))"
   ]
  },
  {
   "cell_type": "markdown",
   "metadata": {},
   "source": [
    "### 리샘플링\n",
    "- resample() 메서드를 이용하여 시계열 데이터의 빈도를 변환할 수 있다.\n",
    "- 일별 데이터를 주별이나 월별 등의 데이터로 변환할 수 있다."
   ]
  },
  {
   "cell_type": "code",
   "execution_count": 37,
   "metadata": {},
   "outputs": [
    {
     "data": {
      "text/plain": [
       "Date\n",
       "2015-01-31    3647.080000\n",
       "2015-02-28    3612.302500\n",
       "2015-03-31    3625.770455\n",
       "2015-04-30    3477.555455\n",
       "2015-05-31    3653.990476\n",
       "Freq: M, Name: TOEI ANIMATION, dtype: float64"
      ]
     },
     "execution_count": 37,
     "metadata": {},
     "output_type": "execute_result"
    }
   ],
   "source": [
    "df['TOEI ANIMATION'].resample('M').mean().head()"
   ]
  },
  {
   "cell_type": "code",
   "execution_count": 41,
   "metadata": {
    "scrolled": true
   },
   "outputs": [
    {
     "data": {
      "text/plain": [
       "Date\n",
       "2015-01-31    22\n",
       "2015-02-28    20\n",
       "2015-03-31    22\n",
       "2015-04-30    22\n",
       "2015-05-31    21\n",
       "              ..\n",
       "2016-08-31    23\n",
       "2016-09-30    22\n",
       "2016-10-31    21\n",
       "2016-11-30    22\n",
       "2016-12-31    22\n",
       "Freq: M, Name: TOEI ANIMATION, Length: 24, dtype: int64"
      ]
     },
     "execution_count": 41,
     "metadata": {},
     "output_type": "execute_result"
    }
   ],
   "source": [
    "df['TOEI ANIMATION'].resample('M').count()"
   ]
  },
  {
   "cell_type": "code",
   "execution_count": 49,
   "metadata": {},
   "outputs": [
    {
     "data": {
      "text/html": [
       "<div>\n",
       "<style scoped>\n",
       "    .dataframe tbody tr th:only-of-type {\n",
       "        vertical-align: middle;\n",
       "    }\n",
       "\n",
       "    .dataframe tbody tr th {\n",
       "        vertical-align: top;\n",
       "    }\n",
       "\n",
       "    .dataframe thead th {\n",
       "        text-align: right;\n",
       "    }\n",
       "</style>\n",
       "<table border=\"1\" class=\"dataframe\">\n",
       "  <thead>\n",
       "    <tr style=\"text-align: right;\">\n",
       "      <th></th>\n",
       "      <th>open</th>\n",
       "      <th>high</th>\n",
       "      <th>low</th>\n",
       "      <th>close</th>\n",
       "    </tr>\n",
       "    <tr>\n",
       "      <th>Date</th>\n",
       "      <th></th>\n",
       "      <th></th>\n",
       "      <th></th>\n",
       "      <th></th>\n",
       "    </tr>\n",
       "  </thead>\n",
       "  <tbody>\n",
       "    <tr>\n",
       "      <th>2015-01-04</th>\n",
       "      <td>3356.86</td>\n",
       "      <td>3356.86</td>\n",
       "      <td>3356.86</td>\n",
       "      <td>3356.86</td>\n",
       "    </tr>\n",
       "    <tr>\n",
       "      <th>2015-01-11</th>\n",
       "      <td>3396.12</td>\n",
       "      <td>3513.90</td>\n",
       "      <td>3297.97</td>\n",
       "      <td>3513.90</td>\n",
       "    </tr>\n",
       "    <tr>\n",
       "      <th>2015-01-18</th>\n",
       "      <td>3513.90</td>\n",
       "      <td>3872.16</td>\n",
       "      <td>3435.38</td>\n",
       "      <td>3872.16</td>\n",
       "    </tr>\n",
       "    <tr>\n",
       "      <th>2015-01-25</th>\n",
       "      <td>3877.07</td>\n",
       "      <td>3877.07</td>\n",
       "      <td>3739.66</td>\n",
       "      <td>3739.66</td>\n",
       "    </tr>\n",
       "    <tr>\n",
       "      <th>2015-02-01</th>\n",
       "      <td>3774.01</td>\n",
       "      <td>3965.41</td>\n",
       "      <td>3774.01</td>\n",
       "      <td>3965.41</td>\n",
       "    </tr>\n",
       "    <tr>\n",
       "      <th>...</th>\n",
       "      <td>...</td>\n",
       "      <td>...</td>\n",
       "      <td>...</td>\n",
       "      <td>...</td>\n",
       "    </tr>\n",
       "    <tr>\n",
       "      <th>2016-12-04</th>\n",
       "      <td>5803.22</td>\n",
       "      <td>5872.89</td>\n",
       "      <td>5803.22</td>\n",
       "      <td>5872.89</td>\n",
       "    </tr>\n",
       "    <tr>\n",
       "      <th>2016-12-11</th>\n",
       "      <td>5773.35</td>\n",
       "      <td>5862.94</td>\n",
       "      <td>5773.35</td>\n",
       "      <td>5773.35</td>\n",
       "    </tr>\n",
       "    <tr>\n",
       "      <th>2016-12-18</th>\n",
       "      <td>5713.63</td>\n",
       "      <td>5783.31</td>\n",
       "      <td>5713.63</td>\n",
       "      <td>5783.31</td>\n",
       "    </tr>\n",
       "    <tr>\n",
       "      <th>2016-12-25</th>\n",
       "      <td>5773.35</td>\n",
       "      <td>5823.12</td>\n",
       "      <td>5773.35</td>\n",
       "      <td>5773.35</td>\n",
       "    </tr>\n",
       "    <tr>\n",
       "      <th>2017-01-01</th>\n",
       "      <td>5783.31</td>\n",
       "      <td>6012.25</td>\n",
       "      <td>5783.31</td>\n",
       "      <td>6012.25</td>\n",
       "    </tr>\n",
       "  </tbody>\n",
       "</table>\n",
       "<p>105 rows × 4 columns</p>\n",
       "</div>"
      ],
      "text/plain": [
       "               open     high      low    close\n",
       "Date                                          \n",
       "2015-01-04  3356.86  3356.86  3356.86  3356.86\n",
       "2015-01-11  3396.12  3513.90  3297.97  3513.90\n",
       "2015-01-18  3513.90  3872.16  3435.38  3872.16\n",
       "2015-01-25  3877.07  3877.07  3739.66  3739.66\n",
       "2015-02-01  3774.01  3965.41  3774.01  3965.41\n",
       "...             ...      ...      ...      ...\n",
       "2016-12-04  5803.22  5872.89  5803.22  5872.89\n",
       "2016-12-11  5773.35  5862.94  5773.35  5773.35\n",
       "2016-12-18  5713.63  5783.31  5713.63  5783.31\n",
       "2016-12-25  5773.35  5823.12  5773.35  5773.35\n",
       "2017-01-01  5783.31  6012.25  5783.31  6012.25\n",
       "\n",
       "[105 rows x 4 columns]"
      ]
     },
     "execution_count": 49,
     "metadata": {},
     "output_type": "execute_result"
    }
   ],
   "source": [
    "#  일별 마감가를 주봉으로 변환\n",
    "df['TOEI ANIMATION'].resample('W').ohlc()"
   ]
  },
  {
   "cell_type": "code",
   "execution_count": 50,
   "metadata": {},
   "outputs": [],
   "source": [
    "# https://stackoverflow.com/questions/36222928/pandas-ohlc-aggregation-on-ohlc-data\n",
    "# 위는 이미 ohlc로 되어있는 데이터를 다른 단위로 바꿔서 하고 싶을 때임. \n",
    "# 답변에는 resmaple.agg(dict) 방식으로 해결했으니 참고."
   ]
  }
 ],
 "metadata": {
  "kernelspec": {
   "display_name": "Python 3",
   "language": "python",
   "name": "python3"
  },
  "language_info": {
   "codemirror_mode": {
    "name": "ipython",
    "version": 3
   },
   "file_extension": ".py",
   "mimetype": "text/x-python",
   "name": "python",
   "nbconvert_exporter": "python",
   "pygments_lexer": "ipython3",
   "version": "3.6.6"
  }
 },
 "nbformat": 4,
 "nbformat_minor": 2
}
