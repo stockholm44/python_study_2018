{
 "cells": [
  {
   "cell_type": "markdown",
   "metadata": {},
   "source": [
    "# 05-02 피겨오브젝트와 서브플롯 조정"
   ]
  },
  {
   "cell_type": "markdown",
   "metadata": {},
   "source": [
    " 피겨오브젝트 서식 설정하기\n",
    "- figsize\n",
    "- dpi 해상도\n",
    "- facecolor 채움색\n",
    "- edgecolor 테두리선색\n",
    "- linewidth 테두리서 굵기\n",
    "- frameon 테두리선 그리그 유무(True 그리기, False 그리지 않음)\n",
    "- subplotpars 좌우, 상하, 서브플롯 사이의 여백 설정\n",
    "- tight_layout False= subplotpars 설정사용, True = 초기설정사용"
   ]
  },
  {
   "cell_type": "code",
   "execution_count": 5,
   "metadata": {},
   "outputs": [
    {
     "data": {
      "image/png": "[encoded data removed]",
      "text/plain": [
       "<Figure size 300x300 with 1 Axes>"
      ]
     },
     "metadata": {},
     "output_type": "display_data"
    }
   ],
   "source": [
    "# 피갸 오브젝트 인수 설정\n",
    "import matplotlib.pyplot as plt\n",
    "\n",
    "fig = plt.figure(figsize=(3,3),   # 크기\n",
    "                dpi=100,          # 해상도\n",
    "                facecolor='grey', # 채우기 색\n",
    "                edgecolor='k',    # 테두리 색\n",
    "                linewidth=10,     # 테두리선 두께\n",
    "                frameon=True,     # 테두리선 표시하기\n",
    "                tight_layout=False)\n",
    "ax1 = fig.add_subplot(111)\n",
    "\n",
    "plt.show()"
   ]
  },
  {
   "cell_type": "markdown",
   "metadata": {},
   "source": [
    "서브플롯 서식설정하기\n",
    "- facecolor 그리기 영역 색\n",
    "- frame_on 그리기유무\n",
    "- xscale, yscale 'linear', 'log', 'logit', 'symlog'"
   ]
  },
  {
   "cell_type": "code",
   "execution_count": 6,
   "metadata": {},
   "outputs": [
    {
     "data": {
      "image/png": "[encoded data removed]",
      "text/plain": [
       "<Figure size 216x216 with 1 Axes>"
      ]
     },
     "metadata": {
      "needs_background": "light"
     },
     "output_type": "display_data"
    }
   ],
   "source": [
    "fig = plt.figure(figsize=(3,3))\n",
    "\n",
    "# 서브플롯 서식설정\n",
    "ax = fig.add_subplot(111,\n",
    "                    facecolor='lightblue',\n",
    "                    xlim=[0,15],\n",
    "                    ylim=[1,10000],\n",
    "                    yscale='log')\n",
    "\n",
    "ax.plot([1,5,10],[10,100,1000])\n",
    "\n",
    "plt.show()"
   ]
  },
  {
   "cell_type": "markdown",
   "metadata": {},
   "source": [
    "서브플롯 사이의 여백 설정하기\n",
    "- subplots_adjust() 함수 사용하여 여백 조정\n",
    "- wspace 테두리폭, hspace 테두리높이의 평균값을 1로 한 비율로 부여\n",
    "- top, bottom, right, left로 상하좌우 설정가능, 피겨오브젝트의 폭 높이를 1로 한경우의 비율로 부여"
   ]
  },
  {
   "cell_type": "code",
   "execution_count": 9,
   "metadata": {},
   "outputs": [
    {
     "data": {
      "image/png": "[encoded data removed]",
      "text/plain": [
       "<Figure size 216x216 with 4 Axes>"
      ]
     },
     "metadata": {
      "needs_background": "light"
     },
     "output_type": "display_data"
    }
   ],
   "source": [
    "# 초기 설정의 여백설정으로 서브플롯 그리기\n",
    "fig = plt.figure(figsize=(3,3))\n",
    "\n",
    "ax1 = fig.add_subplot(221)\n",
    "ax2 = fig.add_subplot(222)\n",
    "ax3 = fig.add_subplot(223)\n",
    "ax4 = fig.add_subplot(224)\n",
    "\n",
    "plt.show()"
   ]
  },
  {
   "cell_type": "code",
   "execution_count": 10,
   "metadata": {},
   "outputs": [
    {
     "data": {
      "image/png": "[encoded data removed]",
      "text/plain": [
       "<Figure size 216x216 with 4 Axes>"
      ]
     },
     "metadata": {
      "needs_background": "light"
     },
     "output_type": "display_data"
    }
   ],
   "source": [
    "# 서브플롯 사이의 여백 조정하기\n",
    "fig = plt.figure(figsize=(3,3))\n",
    "\n",
    "ax1 = fig.add_subplot(221)\n",
    "ax2 = fig.add_subplot(222)\n",
    "ax3 = fig.add_subplot(223)\n",
    "ax4 = fig.add_subplot(224)\n",
    "\n",
    "# 서브플롯 사이의 여백조정\n",
    "fig.subplots_adjust(wspace=0.5, hspace=0.5)\n",
    "\n",
    "plt.show()"
   ]
  },
  {
   "cell_type": "code",
   "execution_count": 11,
   "metadata": {},
   "outputs": [
    {
     "data": {
      "image/png": "[encoded data removed]",
      "text/plain": [
       "<Figure size 216x216 with 4 Axes>"
      ]
     },
     "metadata": {
      "needs_background": "light"
     },
     "output_type": "display_data"
    }
   ],
   "source": [
    "# 서브플롯 주위 여백 조정\n",
    "fig = plt.figure(figsize=(3,3))\n",
    "\n",
    "ax1 = fig.add_subplot(221)\n",
    "ax2 = fig.add_subplot(222)\n",
    "ax3 = fig.add_subplot(223)\n",
    "ax4 = fig.add_subplot(224)\n",
    "\n",
    "# 서브 플롯 주변의 공간조정\n",
    "fig.subplots_adjust(left=0.2, right=0.8, bottom=0.2, top=0.8)\n",
    "\n",
    "plt.show()"
   ]
  }
 ],
 "metadata": {
  "kernelspec": {
   "display_name": "Python 3",
   "language": "python",
   "name": "python3"
  },
  "language_info": {
   "codemirror_mode": {
    "name": "ipython",
    "version": 3
   },
   "file_extension": ".py",
   "mimetype": "text/x-python",
   "name": "python",
   "nbconvert_exporter": "python",
   "pygments_lexer": "ipython3",
   "version": "3.6.6"
  }
 },
 "nbformat": 4,
 "nbformat_minor": 2
}
