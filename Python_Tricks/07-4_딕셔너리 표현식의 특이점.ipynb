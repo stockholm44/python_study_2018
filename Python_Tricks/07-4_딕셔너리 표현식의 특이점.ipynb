{
 "cells": [
  {
   "cell_type": "markdown",
   "metadata": {},
   "source": [
    "정말깊이 있는 작은 코드에 감탄. 아래는 그 예.  \n",
    "아래 딕셔너리 표현식이 뭘 하는 코드인지 생각해 보자."
   ]
  },
  {
   "cell_type": "code",
   "execution_count": 1,
   "metadata": {},
   "outputs": [
    {
     "data": {
      "text/plain": [
       "{True: 'maybe'}"
      ]
     },
     "execution_count": 1,
     "metadata": {},
     "output_type": "execute_result"
    }
   ],
   "source": [
    "{True: 'yes', 1: 'no', 1.0:'maybe'}"
   ]
  },
  {
   "cell_type": "markdown",
   "metadata": {},
   "source": [
    "왜? \n",
    "아래와 같은 시퀸스로."
   ]
  },
  {
   "cell_type": "code",
   "execution_count": 5,
   "metadata": {},
   "outputs": [],
   "source": [
    "xs = dict()\n",
    "xs[True] = 'yes'\n",
    "xs[1] = 'no'\n",
    "xs[1.0] = 'maybe' # True = 1 = 1.0으로 모든키가 같다고 간주"
   ]
  },
  {
   "cell_type": "code",
   "execution_count": 6,
   "metadata": {},
   "outputs": [
    {
     "data": {
      "text/plain": [
       "True"
      ]
     },
     "execution_count": 6,
     "metadata": {},
     "output_type": "execute_result"
    }
   ],
   "source": [
    "True == 1 == 1.0"
   ]
  },
  {
   "cell_type": "markdown",
   "metadata": {},
   "source": [
    "bool을 int의 서브클래스로 간주한다. 파이썬공식문서\n",
    "- 기술적으로 bool 값을 리스트나 튜플의 인덱스로 사용가능을 의미"
   ]
  },
  {
   "cell_type": "code",
   "execution_count": 27,
   "metadata": {},
   "outputs": [
    {
     "data": {
      "text/plain": [
       "'yes'"
      ]
     },
     "execution_count": 27,
     "metadata": {},
     "output_type": "execute_result"
    }
   ],
   "source": [
    "['no', 'yes'][True]"
   ]
  },
  {
   "cell_type": "markdown",
   "metadata": {},
   "source": [
    " __ eq__ 가 항상 True를 반환하여 어떤 객체와 비교해도 같다고 가장."
   ]
  },
  {
   "cell_type": "code",
   "execution_count": 29,
   "metadata": {},
   "outputs": [],
   "source": [
    "class AlwayEquals:\n",
    "    def __eq__(self, other):\n",
    "        return True\n",
    "    \n",
    "    def __hash__(self):\n",
    "        return id(self)"
   ]
  },
  {
   "cell_type": "code",
   "execution_count": 13,
   "metadata": {},
   "outputs": [
    {
     "data": {
      "text/plain": [
       "True"
      ]
     },
     "execution_count": 13,
     "metadata": {},
     "output_type": "execute_result"
    }
   ],
   "source": [
    "AlwayEquals() == AlwayEquals()"
   ]
  },
  {
   "cell_type": "code",
   "execution_count": 14,
   "metadata": {},
   "outputs": [
    {
     "data": {
      "text/plain": [
       "True"
      ]
     },
     "execution_count": 14,
     "metadata": {},
     "output_type": "execute_result"
    }
   ],
   "source": [
    "AlwayEquals() == 42"
   ]
  },
  {
   "cell_type": "code",
   "execution_count": 24,
   "metadata": {},
   "outputs": [
    {
     "data": {
      "text/plain": [
       "True"
      ]
     },
     "execution_count": 24,
     "metadata": {},
     "output_type": "execute_result"
    }
   ],
   "source": [
    "AlwayEquals() == 'waaaaaaaaat????'"
   ]
  },
  {
   "cell_type": "markdown",
   "metadata": {},
   "source": [
    "각 AlwaysEqual 인스턴스는 내장된 id()함수에 의해 생성된 고유한 해시값을 반환"
   ]
  },
  {
   "cell_type": "code",
   "execution_count": 25,
   "metadata": {},
   "outputs": [],
   "source": [
    "objects = [AlwayEquals(),\n",
    "          AlwayEquals(),\n",
    "          AlwayEquals()]"
   ]
  },
  {
   "cell_type": "code",
   "execution_count": 26,
   "metadata": {},
   "outputs": [
    {
     "data": {
      "text/plain": [
       "[2465416126192, 2465416126248, 2465416125856]"
      ]
     },
     "execution_count": 26,
     "metadata": {},
     "output_type": "execute_result"
    }
   ],
   "source": [
    "[hash(obj) for obj in objects]"
   ]
  },
  {
   "cell_type": "markdown",
   "metadata": {},
   "source": [
    "동등한 키를 사용하더라도 더 이상 값이 덢어쓰이지 않음."
   ]
  },
  {
   "cell_type": "code",
   "execution_count": 23,
   "metadata": {},
   "outputs": [
    {
     "data": {
      "text/plain": [
       "{<__main__.AlwayEquals at 0x23e064099b0>: 'yes',\n",
       " <__main__.AlwayEquals at 0x23e06409940>: 'no'}"
      ]
     },
     "execution_count": 23,
     "metadata": {},
     "output_type": "execute_result"
    }
   ],
   "source": [
    "{AlwayEquals(): 'yes', AlwayEquals(): 'no'}"
   ]
  },
  {
   "cell_type": "markdown",
   "metadata": {},
   "source": [
    "아이디어를 뒤집어서 동일한 해시값을 반환해도 키를 덮어 쓸수 있는지 확인"
   ]
  },
  {
   "cell_type": "code",
   "execution_count": 30,
   "metadata": {},
   "outputs": [],
   "source": [
    "class SameHash:\n",
    "    def __hash__(self):\n",
    "        return 1"
   ]
  },
  {
   "cell_type": "code",
   "execution_count": 32,
   "metadata": {},
   "outputs": [
    {
     "data": {
      "text/plain": [
       "False"
      ]
     },
     "execution_count": 32,
     "metadata": {},
     "output_type": "execute_result"
    }
   ],
   "source": [
    "a = SameHash()\n",
    "b = SameHash()\n",
    "a == b"
   ]
  },
  {
   "cell_type": "code",
   "execution_count": 33,
   "metadata": {},
   "outputs": [
    {
     "data": {
      "text/plain": [
       "(1, 1)"
      ]
     },
     "execution_count": 33,
     "metadata": {},
     "output_type": "execute_result"
    }
   ],
   "source": [
    "hash(a), hash(b)"
   ]
  },
  {
   "cell_type": "markdown",
   "metadata": {},
   "source": [
    "SameHash의 인스턴스를 키로 사용시 딕셔너리가 어떻게 반응하나?"
   ]
  },
  {
   "cell_type": "code",
   "execution_count": 36,
   "metadata": {},
   "outputs": [
    {
     "data": {
      "text/plain": [
       "{<__main__.SameHash at 0x23e06411710>: 'a',\n",
       " <__main__.SameHash at 0x23e064114e0>: 'b'}"
      ]
     },
     "execution_count": 36,
     "metadata": {},
     "output_type": "execute_result"
    }
   ],
   "source": [
    "# 해시값 충돌만으로 키를 덮어써는 효과는 발생하지 않음.\n",
    "{a: 'a', b: 'b'}"
   ]
  },
  {
   "cell_type": "markdown",
   "metadata": {},
   "source": [
    "맨처음 표현식 {True: 'yes', 1: 'no', 1.0:'maybe'} 가 {True: 'maybe'} 로 평가되는 이유는 키가 모두 동등하고 해시값도 같기 때문이다."
   ]
  },
  {
   "cell_type": "code",
   "execution_count": 38,
   "metadata": {},
   "outputs": [
    {
     "data": {
      "text/plain": [
       "True"
      ]
     },
     "execution_count": 38,
     "metadata": {},
     "output_type": "execute_result"
    }
   ],
   "source": [
    "True == 1 == 1.0"
   ]
  },
  {
   "cell_type": "code",
   "execution_count": 39,
   "metadata": {},
   "outputs": [
    {
     "data": {
      "text/plain": [
       "(1, 1, 1)"
      ]
     },
     "execution_count": 39,
     "metadata": {},
     "output_type": "execute_result"
    }
   ],
   "source": [
    "(hash(True), hash(1), hash(1.0))"
   ]
  }
 ],
 "metadata": {
  "kernelspec": {
   "display_name": "Python 3",
   "language": "python",
   "name": "python3"
  },
  "language_info": {
   "codemirror_mode": {
    "name": "ipython",
    "version": 3
   },
   "file_extension": ".py",
   "mimetype": "text/x-python",
   "name": "python",
   "nbconvert_exporter": "python",
   "pygments_lexer": "ipython3",
   "version": "3.6.6"
  }
 },
 "nbformat": 4,
 "nbformat_minor": 2
}
