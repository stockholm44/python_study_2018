{
 "cells": [
  {
   "cell_type": "markdown",
   "metadata": {},
   "source": [
    "딕셔너리에는 대쳇값을 제공하면서 키를 찾는 get()메서드가 있다. "
   ]
  },
  {
   "cell_type": "code",
   "execution_count": 1,
   "metadata": {},
   "outputs": [],
   "source": [
    "name_for_userid = {\n",
    "    382: 'Alice',\n",
    "    950: 'Bob',\n",
    "    590: 'Dilbert',\n",
    "}"
   ]
  },
  {
   "cell_type": "code",
   "execution_count": 2,
   "metadata": {},
   "outputs": [],
   "source": [
    "def greeting(userid):\n",
    "    return 'Hi %s!' % name_for_userid[userid]"
   ]
  },
  {
   "cell_type": "code",
   "execution_count": 3,
   "metadata": {},
   "outputs": [
    {
     "data": {
      "text/plain": [
       "'Hi Alice!'"
      ]
     },
     "execution_count": 3,
     "metadata": {},
     "output_type": "execute_result"
    }
   ],
   "source": [
    "greeting(382)"
   ]
  },
  {
   "cell_type": "code",
   "execution_count": 5,
   "metadata": {},
   "outputs": [
    {
     "ename": "KeyError",
     "evalue": "22222",
     "output_type": "error",
     "traceback": [
      "\u001b[1;31m---------------------------------------------------------------------------\u001b[0m",
      "\u001b[1;31mKeyError\u001b[0m                                  Traceback (most recent call last)",
      "\u001b[1;32m<ipython-input-5-ce426b25517d>\u001b[0m in \u001b[0;36m<module>\u001b[1;34m()\u001b[0m\n\u001b[1;32m----> 1\u001b[1;33m \u001b[0mgreeting\u001b[0m\u001b[1;33m(\u001b[0m\u001b[1;36m22222\u001b[0m\u001b[1;33m)\u001b[0m \u001b[1;31m# 잘못된 키가 들어올 경우 KeyError 예외가 뜨는데 대신에 일반적인 인사말을 하고 싶다.\u001b[0m\u001b[1;33m\u001b[0m\u001b[0m\n\u001b[0m",
      "\u001b[1;32m<ipython-input-2-87d7e949446f>\u001b[0m in \u001b[0;36mgreeting\u001b[1;34m(userid)\u001b[0m\n\u001b[0;32m      1\u001b[0m \u001b[1;32mdef\u001b[0m \u001b[0mgreeting\u001b[0m\u001b[1;33m(\u001b[0m\u001b[0muserid\u001b[0m\u001b[1;33m)\u001b[0m\u001b[1;33m:\u001b[0m\u001b[1;33m\u001b[0m\u001b[0m\n\u001b[1;32m----> 2\u001b[1;33m     \u001b[1;32mreturn\u001b[0m \u001b[1;34m'Hi %s!'\u001b[0m \u001b[1;33m%\u001b[0m \u001b[0mname_for_userid\u001b[0m\u001b[1;33m[\u001b[0m\u001b[0muserid\u001b[0m\u001b[1;33m]\u001b[0m\u001b[1;33m\u001b[0m\u001b[0m\n\u001b[0m",
      "\u001b[1;31mKeyError\u001b[0m: 22222"
     ]
    }
   ],
   "source": [
    "greeting(22222) # 잘못된 키가 들어올 경우 KeyError 예외가 뜨는데 대신에 일반적인 인사말을 하고 싶다. "
   ]
  },
  {
   "cell_type": "code",
   "execution_count": 6,
   "metadata": {},
   "outputs": [],
   "source": [
    "def greeting(userid):\n",
    "    if userid in name_for_userid:\n",
    "        return 'Hi %s!' % name_for_userid[userid]\n",
    "    else:\n",
    "        return 'Hi there'"
   ]
  },
  {
   "cell_type": "code",
   "execution_count": 7,
   "metadata": {},
   "outputs": [
    {
     "data": {
      "text/plain": [
       "'Hi Alice!'"
      ]
     },
     "execution_count": 7,
     "metadata": {},
     "output_type": "execute_result"
    }
   ],
   "source": [
    "greeting(382)"
   ]
  },
  {
   "cell_type": "code",
   "execution_count": 8,
   "metadata": {},
   "outputs": [
    {
     "data": {
      "text/plain": [
       "'Hi there'"
      ]
     },
     "execution_count": 8,
     "metadata": {},
     "output_type": "execute_result"
    }
   ],
   "source": [
    "greeting(22222)"
   ]
  },
  {
   "cell_type": "markdown",
   "metadata": {},
   "source": [
    "위의 함수의 개선의 여지\n",
    "- 딕셔너리를 두 번 조회하기 때문에 비효율적\n",
    "- 인사말 문자열의 일부가 반복되기 때문에 장황\n",
    "- 파이썬답지 않다. 파이썬 공식 문서는 이러한 상황에서 특별히 \"허가보다는 용서를 구하는 게 쉽다\"는 뜻의 EAFP(Easier to Ask for Forgiveness than Permission) 코딩스타일을 권장한다. 이 일반적인 파이썬 코딩 스타일은 유효한 키 혹은 속성이 존재한다고 가정하고, 만약 이 가정이 틀렸다고 판명되면 그 때 예외를 처리하는 방식이다. "
   ]
  },
  {
   "cell_type": "code",
   "execution_count": 9,
   "metadata": {},
   "outputs": [],
   "source": [
    "# 명시적 키 테스트 대신 try...excep블록으로 keyError를 잡는다. \n",
    "def greeting(userid):\n",
    "    try:\n",
    "        return 'Hi %s!' % name_for_userid[userid]\n",
    "    except KeyError:\n",
    "        return 'Hi there'"
   ]
  },
  {
   "cell_type": "code",
   "execution_count": 11,
   "metadata": {},
   "outputs": [],
   "source": [
    "# 기본 매개변수 지원하는 get()메서드를 사용.\n",
    "def greeting(userid):\n",
    "    return 'Hi %s!' % name_for_userid.get(userid, 'there') # get() 호출시 키가 있으면 연결된 값, 없으면 기본매개변수가 반환"
   ]
  },
  {
   "cell_type": "code",
   "execution_count": 12,
   "metadata": {},
   "outputs": [
    {
     "data": {
      "text/plain": [
       "'Hi Alice!'"
      ]
     },
     "execution_count": 12,
     "metadata": {},
     "output_type": "execute_result"
    }
   ],
   "source": [
    "greeting(382)"
   ]
  },
  {
   "cell_type": "code",
   "execution_count": 13,
   "metadata": {},
   "outputs": [
    {
     "data": {
      "text/plain": [
       "'Hi there!'"
      ]
     },
     "execution_count": 13,
     "metadata": {},
     "output_type": "execute_result"
    }
   ],
   "source": [
    "greeting(222)"
   ]
  },
  {
   "cell_type": "markdown",
   "metadata": {},
   "source": [
    "요점\n",
    "- 맴버십을 테스트할 때 딕셔너리의 키를 명시적으로 확인하지 말라.\n",
    "- EAFP 스타일의 예외 처리 또는 내장된 get() 메서드를 사용하는 편이 바람직하다.\n",
    "- 어떤 경우에는 표준 라이브러리의 collections.defaultdict 클래스가 도움이 될 수 있다. "
   ]
  }
 ],
 "metadata": {
  "kernelspec": {
   "display_name": "Python 3",
   "language": "python",
   "name": "python3"
  },
  "language_info": {
   "codemirror_mode": {
    "name": "ipython",
    "version": 3
   },
   "file_extension": ".py",
   "mimetype": "text/x-python",
   "name": "python",
   "nbconvert_exporter": "python",
   "pygments_lexer": "ipython3",
   "version": "3.6.6"
  }
 },
 "nbformat": 4,
 "nbformat_minor": 2
}
