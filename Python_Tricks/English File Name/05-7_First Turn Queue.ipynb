{
 "cells": [
  {
   "cell_type": "markdown",
   "metadata": {},
   "source": [
    "우선순위 큐는 전순서 집합(totally ordered set, toset)으로 된 키가 있는 레코드 집합을 관리하는 컨테이너 데이터 구조다.  \n",
    "그리고 레코드 집합에서 가장작은 키 또는 가장 큰 키를 사용하여 레코드에 빠르게 접근할 수 있다.  \n",
    "우선순위 큐는 일반적으로 긴급성이 높은 작업에 우선순위를 부여하는 등 스케쥴링 문제처리에 사용된다."
   ]
  },
  {
   "cell_type": "markdown",
   "metadata": {},
   "source": [
    "list: 수동으로 정렬된 큐 유지하기"
   ]
  },
  {
   "cell_type": "code",
   "execution_count": 2,
   "metadata": {},
   "outputs": [],
   "source": [
    "q = []\n",
    "q.append((2, 'code'))\n",
    "q.append((1, 'eat'))\n",
    "q.append((3, 'sleep'))"
   ]
  },
  {
   "cell_type": "code",
   "execution_count": 4,
   "metadata": {},
   "outputs": [
    {
     "name": "stdout",
     "output_type": "stream",
     "text": [
      "(1, 'eat')\n",
      "(2, 'code')\n",
      "(3, 'sleep')\n"
     ]
    }
   ],
   "source": [
    "# 주의 : 재정렬할 때마다 새요소가 삽입된다.\n",
    "# bisect.insort()를 사용해 보라.\n",
    "q.sort(reverse=True)\n",
    "\n",
    "while q:\n",
    "    next_item = q.pop()\n",
    "    print(next_item)"
   ]
  },
  {
   "cell_type": "markdown",
   "metadata": {},
   "source": [
    "heapq: 리스트 기반 이진 힙\n",
    "- 일반 list에 의해 뒷받침되는 이진 힙구현.\n",
    "- 그리고 가장 작은 항목의 삽입과 추출을 O(logn) 시간에 해냄.\n",
    "- 파이썬에서 우선순위 큐를 구현하기에 좋은 선택.\n",
    "- 최소힙구현만 제공하여 일반적으로 요구하는 정렬안정성과 다른 기능들을 보장하려면 추가작업이 필요"
   ]
  },
  {
   "cell_type": "code",
   "execution_count": 5,
   "metadata": {},
   "outputs": [
    {
     "name": "stdout",
     "output_type": "stream",
     "text": [
      "(1, 'eat')\n",
      "(2, 'code')\n",
      "(3, 'sleep')\n"
     ]
    }
   ],
   "source": [
    "import heapq\n",
    "\n",
    "q = []\n",
    "heapq.heappush(q, (2, 'code'))\n",
    "heapq.heappush(q, (1, 'eat'))\n",
    "heapq.heappush(q, (3, 'sleep'))\n",
    "\n",
    "while q:\n",
    "    next_item = heapq.heappop(q)\n",
    "    print(next_item)"
   ]
  },
  {
   "cell_type": "markdown",
   "metadata": {},
   "source": [
    "queue.PriorityQueue: 아름다운 우선순위 큐\n",
    "- 내부적으로 heapq를 사용하고 동일한 시간과 공간 복잡성을 공유\n",
    "- 다른점은 PriorityQueue는 동기방식이며 동시에 여러 생산자와 소비자를 지원하는 잠금첵몌를 제공\n",
    "- 용도에 따라 도움이 될 수도 있고 약간 느리게 할 수도 있다."
   ]
  },
  {
   "cell_type": "code",
   "execution_count": 6,
   "metadata": {},
   "outputs": [
    {
     "name": "stdout",
     "output_type": "stream",
     "text": [
      "(1, 'eat')\n",
      "(2, 'code')\n",
      "(3, 'sleep')\n"
     ]
    }
   ],
   "source": [
    "from queue import PriorityQueue\n",
    "\n",
    "q = PriorityQueue()\n",
    "\n",
    "q.put((2, 'code'))\n",
    "q.put((1, 'eat'))\n",
    "q.put((3, 'sleep'))\n",
    "\n",
    "while not q.empty():\n",
    "    next_item = q.get()\n",
    "    print(next_item)"
   ]
  },
  {
   "cell_type": "markdown",
   "metadata": {},
   "source": [
    "요점\n",
    "- quqeue.PriorityQueue는 멋진 객체지향 인터페이스와 그 의도를 명확하게 나타낸ㄴ 이름덕분에 선호하는 선택이 될것\n",
    "- 위의 잠금부하를 피하려면 heapq를 직접사용하는 것이 좋음"
   ]
  }
 ],
 "metadata": {
  "kernelspec": {
   "display_name": "Python 3",
   "language": "python",
   "name": "python3"
  },
  "language_info": {
   "codemirror_mode": {
    "name": "ipython",
    "version": 3
   },
   "file_extension": ".py",
   "mimetype": "text/x-python",
   "name": "python",
   "nbconvert_exporter": "python",
   "pygments_lexer": "ipython3",
   "version": "3.6.6"
  }
 },
 "nbformat": 4,
 "nbformat_minor": 2
}
