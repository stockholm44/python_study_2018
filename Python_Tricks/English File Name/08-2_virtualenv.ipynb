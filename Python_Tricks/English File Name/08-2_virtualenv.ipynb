{
 "cells": [
  {
   "cell_type": "markdown",
   "metadata": {},
   "source": [
    "내용이 다 shell에서 하는거라 따로 안적음  \n",
    "추가적인 생산성 향상을 위해 이 주제를 자세히 알고 싶다면 \n",
    "- dbader.org에 있는 'Managing Python Dependencies'(http://dbader.org/products/managing-python-dependencies/)과정을 공부하자."
   ]
  },
  {
   "cell_type": "code",
   "execution_count": null,
   "metadata": {},
   "outputs": [],
   "source": []
  }
 ],
 "metadata": {
  "kernelspec": {
   "display_name": "Python 3",
   "language": "python",
   "name": "python3"
  },
  "language_info": {
   "codemirror_mode": {
    "name": "ipython",
    "version": 3
   },
   "file_extension": ".py",
   "mimetype": "text/x-python",
   "name": "python",
   "nbconvert_exporter": "python",
   "pygments_lexer": "ipython3",
   "version": "3.6.6"
  }
 },
 "nbformat": 4,
 "nbformat_minor": 2
}
