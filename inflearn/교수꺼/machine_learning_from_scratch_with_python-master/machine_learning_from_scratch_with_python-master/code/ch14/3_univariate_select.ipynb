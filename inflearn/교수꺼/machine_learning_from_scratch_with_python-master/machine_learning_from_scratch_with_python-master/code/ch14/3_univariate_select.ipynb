{
 "cells": [
  {
   "cell_type": "code",
   "execution_count": 1,
   "metadata": {},
   "outputs": [],
   "source": [
    "import warnings\n",
    "warnings.filterwarnings('ignore')"
   ]
  },
  {
   "cell_type": "code",
   "execution_count": 2,
   "metadata": {},
   "outputs": [],
   "source": [
    "import hourse_price_preprocessor as hpp\n",
    "import os\n",
    "import numpy as np\n",
    "import pandas as pd"
   ]
  },
  {
   "cell_type": "code",
   "execution_count": 3,
   "metadata": {},
   "outputs": [],
   "source": [
    "DATA_DIR = \"house_price\"\n",
    "TEST_FILENAME = \"test.csv\"\n",
    "TRAIN_FILENAME = \"train.csv\""
   ]
  },
  {
   "cell_type": "code",
   "execution_count": 4,
   "metadata": {},
   "outputs": [],
   "source": [
    "test_file = os.path.join(DATA_DIR, TEST_FILENAME)\n",
    "train_file = os.path.join(DATA_DIR, TRAIN_FILENAME)"
   ]
  },
  {
   "cell_type": "code",
   "execution_count": 5,
   "metadata": {},
   "outputs": [],
   "source": [
    "X_train, X_test, y_train, test_id_idx = hpp.get_train_test_split_dataset(train_file, test_file)"
   ]
  },
  {
   "cell_type": "code",
   "execution_count": 6,
   "metadata": {},
   "outputs": [
    {
     "data": {
      "text/plain": [
       "((1460, 67), (1460,), (1459, 67), (1459,))"
      ]
     },
     "execution_count": 6,
     "metadata": {},
     "output_type": "execute_result"
    }
   ],
   "source": [
    "X_train.shape, y_train.shape, X_test.shape, test_id_idx.shape"
   ]
  },
  {
   "cell_type": "code",
   "execution_count": 7,
   "metadata": {},
   "outputs": [],
   "source": [
    "from sklearn.feature_selection import SelectPercentile\n",
    "from sklearn.model_selection import cross_val_score\n",
    "from sklearn.linear_model import LinearRegression"
   ]
  },
  {
   "cell_type": "code",
   "execution_count": 8,
   "metadata": {},
   "outputs": [
    {
     "data": {
      "text/plain": [
       "array([208500, 181500, 223500, ..., 266500, 142125, 147500])"
      ]
     },
     "execution_count": 8,
     "metadata": {},
     "output_type": "execute_result"
    }
   ],
   "source": [
    "y_train"
   ]
  },
  {
   "cell_type": "code",
   "execution_count": 32,
   "metadata": {},
   "outputs": [],
   "source": [
    "select = SelectPercentile(percentile=55)\n",
    "select.fit(X_train, y_train)\n",
    "\n",
    "# transform training set\n",
    "X_train_selected = select.transform(X_train)"
   ]
  },
  {
   "cell_type": "code",
   "execution_count": 33,
   "metadata": {},
   "outputs": [
    {
     "data": {
      "text/plain": [
       "(1460, 37)"
      ]
     },
     "execution_count": 33,
     "metadata": {},
     "output_type": "execute_result"
    }
   ],
   "source": [
    "X_train_selected.shape"
   ]
  },
  {
   "cell_type": "code",
   "execution_count": 34,
   "metadata": {},
   "outputs": [
    {
     "data": {
      "text/plain": [
       "0.8000781632789679"
      ]
     },
     "execution_count": 34,
     "metadata": {},
     "output_type": "execute_result"
    }
   ],
   "source": [
    "np.mean(cross_val_score(LinearRegression(), X_train_selected, y_train, scoring=\"r2\"))"
   ]
  },
  {
   "cell_type": "code",
   "execution_count": 35,
   "metadata": {},
   "outputs": [
    {
     "data": {
      "text/plain": [
       "-1.7262876711017333e+23"
      ]
     },
     "execution_count": 35,
     "metadata": {},
     "output_type": "execute_result"
    }
   ],
   "source": [
    "np.mean(cross_val_score(LinearRegression(), X_train, y_train, scoring=\"r2\"))"
   ]
  },
  {
   "cell_type": "code",
   "execution_count": 37,
   "metadata": {},
   "outputs": [],
   "source": [
    "def submit_result_to_kaggle(estimator, X_train, y_train, X_test, test_id_idx):\n",
    "    estimator.fit(X_train, y_train)\n",
    "    result = estimator.predict(X_test)\n",
    "    df = pd.DataFrame(np.vstack((test_id_idx, result)).T.tolist(), columns=[\"Id\", \"SalePrice\"])\n",
    "    df[\"Id\"] = df[\"Id\"].astype('int64')\n",
    "    df = df.set_index('Id')\n",
    "    df.to_csv(\"result.csv\")"
   ]
  },
  {
   "cell_type": "code",
   "execution_count": 38,
   "metadata": {},
   "outputs": [],
   "source": [
    "X_test_selected = select.transform(X_test)\n",
    "lr = LinearRegression()\n",
    "\n",
    "submit_result_to_kaggle(lr, X_train_selected, y_train, X_test_selected,test_id_idx)"
   ]
  },
  {
   "cell_type": "code",
   "execution_count": 39,
   "metadata": {},
   "outputs": [
    {
     "name": "stdout",
     "output_type": "stream",
     "text": [
      "Warning: Looks like you're using an outdated API Version, please consider updating (server 1.3.9.1 / client 1.1.0)\n",
      "Successfully submitted to House Prices: Advanced Regression Techniques"
     ]
    }
   ],
   "source": [
    "!kaggle competitions submit -c house-prices-advanced-regression-techniques -f result.csv -m \"Message\""
   ]
  },
  {
   "cell_type": "code",
   "execution_count": 40,
   "metadata": {},
   "outputs": [],
   "source": [
    "submit_result_to_kaggle(lr, X_train, y_train, X_test,test_id_idx)"
   ]
  },
  {
   "cell_type": "code",
   "execution_count": 41,
   "metadata": {},
   "outputs": [
    {
     "name": "stdout",
     "output_type": "stream",
     "text": [
      "Warning: Looks like you're using an outdated API Version, please consider updating (server 1.3.9.1 / client 1.1.0)\n",
      "Successfully submitted to House Prices: Advanced Regression Techniques"
     ]
    }
   ],
   "source": [
    "!kaggle competitions submit -c house-prices-advanced-regression-techniques -f result.csv -m \"Message\""
   ]
  },
  {
   "cell_type": "code",
   "execution_count": 43,
   "metadata": {},
   "outputs": [
    {
     "data": {
      "text/plain": [
       "array([False,  True, False, False, False,  True, False,  True, False,\n",
       "       False, False,  True, False, False, False,  True,  True,  True,\n",
       "        True,  True, False,  True,  True,  True,  True,  True,  True,\n",
       "        True, False, False, False, False, False, False, False,  True,\n",
       "        True,  True,  True,  True, False,  True,  True,  True,  True,\n",
       "       False,  True, False, False,  True,  True,  True, False,  True,\n",
       "        True,  True,  True,  True,  True,  True, False, False, False,\n",
       "       False,  True, False, False])"
      ]
     },
     "execution_count": 43,
     "metadata": {},
     "output_type": "execute_result"
    }
   ],
   "source": [
    "select.get_support()\n"
   ]
  },
  {
   "cell_type": "code",
   "execution_count": 19,
   "metadata": {},
   "outputs": [
    {
     "data": {
      "text/plain": [
       "array([5.57502768e-001, 5.02124571e-015, 9.99995404e-001, 9.61452045e-002,\n",
       "       9.78688681e-001, 1.56588106e-018, 8.53544002e-001, 6.08632426e-004,\n",
       "       1.00000000e+000, 1.00000000e+000, 9.40689416e-001, 4.47384728e-003,\n",
       "       7.28714288e-001, 9.99971838e-001, 1.00000000e+000, 0.00000000e+000,\n",
       "       2.74137086e-080, 2.16603844e-032, 9.80605930e-008, 6.03435379e-005,\n",
       "       5.21139084e-001, 3.28224819e-014, 3.66786948e-057, 3.40254555e-116,\n",
       "       6.58540871e-136, 0.00000000e+000, 1.56650821e-015, 1.03867093e-011,\n",
       "       7.86193808e-001, 1.48016042e-002, 9.99660590e-001, 9.72965311e-001,\n",
       "       9.99999809e-001, 1.62972263e-002, 5.06478431e-003, 9.89489137e-057,\n",
       "       1.29089040e-029, 2.28852795e-016, 1.17708063e-020, 5.80269212e-013,\n",
       "       5.31304381e-001, 2.19085586e-007, 9.28134677e-030, 2.04558302e-030,\n",
       "       3.34282253e-012, 9.82841633e-001, 1.01652264e-060, 4.32652907e-002,\n",
       "       9.86567394e-001, 5.30633056e-040, 1.41075810e-006, 2.14400746e-003,\n",
       "       9.62826203e-001, 1.43794427e-017, 1.23675640e-011, 5.35611465e-016,\n",
       "       4.12651593e-045, 2.57617802e-037, 7.39104958e-006, 9.65929646e-007,\n",
       "       9.98789590e-001, 9.61469948e-001, 5.00582473e-001, 5.93745451e-001,\n",
       "       4.20626954e-069, 1.82269336e-001, 7.63487774e-002])"
      ]
     },
     "execution_count": 19,
     "metadata": {},
     "output_type": "execute_result"
    }
   ],
   "source": [
    "select.pvalues_"
   ]
  }
 ],
 "metadata": {
  "kernelspec": {
   "display_name": "Python 3",
   "language": "python",
   "name": "python3"
  },
  "language_info": {
   "codemirror_mode": {
    "name": "ipython",
    "version": 3
   },
   "file_extension": ".py",
   "mimetype": "text/x-python",
   "name": "python",
   "nbconvert_exporter": "python",
   "pygments_lexer": "ipython3",
   "version": "3.6.5"
  }
 },
 "nbformat": 4,
 "nbformat_minor": 2
}
