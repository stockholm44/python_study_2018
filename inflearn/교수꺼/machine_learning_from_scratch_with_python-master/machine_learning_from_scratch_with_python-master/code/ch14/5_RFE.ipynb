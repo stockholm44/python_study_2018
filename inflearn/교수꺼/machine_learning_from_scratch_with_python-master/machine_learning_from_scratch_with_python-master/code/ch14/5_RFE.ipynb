{
 "cells": [
  {
   "cell_type": "code",
   "execution_count": 1,
   "metadata": {
    "collapsed": true
   },
   "outputs": [],
   "source": [
    "import warnings\n",
    "warnings.filterwarnings('ignore')"
   ]
  },
  {
   "cell_type": "code",
   "execution_count": 2,
   "metadata": {
    "collapsed": true
   },
   "outputs": [],
   "source": [
    "import hourse_price_preprocessor as hpp\n",
    "import os\n",
    "import numpy as np\n",
    "import pandas as pd"
   ]
  },
  {
   "cell_type": "code",
   "execution_count": 3,
   "metadata": {
    "collapsed": true
   },
   "outputs": [],
   "source": [
    "DATA_DIR = \"house_price\"\n",
    "TEST_FILENAME = \"test.csv\"\n",
    "TRAIN_FILENAME = \"train.csv\""
   ]
  },
  {
   "cell_type": "code",
   "execution_count": 4,
   "metadata": {
    "collapsed": true
   },
   "outputs": [],
   "source": [
    "test_file = os.path.join(DATA_DIR, TEST_FILENAME)\n",
    "train_file = os.path.join(DATA_DIR, TRAIN_FILENAME)"
   ]
  },
  {
   "cell_type": "code",
   "execution_count": 5,
   "metadata": {
    "collapsed": true
   },
   "outputs": [],
   "source": [
    "X_train, X_test, y_train, test_id_idx = hpp.get_train_test_split_dataset(train_file, test_file)"
   ]
  },
  {
   "cell_type": "code",
   "execution_count": 6,
   "metadata": {},
   "outputs": [
    {
     "data": {
      "text/plain": [
       "((1460, 67), (1460,), (1459, 67), (1459,))"
      ]
     },
     "execution_count": 6,
     "metadata": {},
     "output_type": "execute_result"
    }
   ],
   "source": [
    "X_train.shape, y_train.shape, X_test.shape, test_id_idx.shape"
   ]
  },
  {
   "cell_type": "code",
   "execution_count": 18,
   "metadata": {
    "collapsed": true
   },
   "outputs": [],
   "source": [
    "from sklearn.feature_selection import RFE\n",
    "from sklearn.model_selection import cross_val_score\n",
    "from sklearn.linear_model import LinearRegression\n",
    "from sklearn.ensemble import RandomForestRegressor"
   ]
  },
  {
   "cell_type": "code",
   "execution_count": 19,
   "metadata": {},
   "outputs": [
    {
     "data": {
      "text/plain": [
       "array([208500, 181500, 223500, ..., 266500, 142125, 147500], dtype=int64)"
      ]
     },
     "execution_count": 19,
     "metadata": {},
     "output_type": "execute_result"
    }
   ],
   "source": [
    "y_train"
   ]
  },
  {
   "cell_type": "code",
   "execution_count": 26,
   "metadata": {},
   "outputs": [],
   "source": [
    "select = RFE(RandomForestRegressor(n_estimators=100))\n",
    "select.fit(X_train, y_train)\n",
    "\n",
    "# transform training set\n",
    "X_train_selected = select.transform(X_train)"
   ]
  },
  {
   "cell_type": "code",
   "execution_count": 27,
   "metadata": {},
   "outputs": [
    {
     "data": {
      "text/plain": [
       "(1460, 33)"
      ]
     },
     "execution_count": 27,
     "metadata": {},
     "output_type": "execute_result"
    }
   ],
   "source": [
    "X_train_selected.shape"
   ]
  },
  {
   "cell_type": "code",
   "execution_count": 28,
   "metadata": {},
   "outputs": [
    {
     "data": {
      "text/plain": [
       "0.7826559065361373"
      ]
     },
     "execution_count": 28,
     "metadata": {},
     "output_type": "execute_result"
    }
   ],
   "source": [
    "np.mean(cross_val_score(LinearRegression(), X_train_selected, y_train, scoring=\"r2\"))"
   ]
  },
  {
   "cell_type": "code",
   "execution_count": 29,
   "metadata": {},
   "outputs": [
    {
     "data": {
      "text/plain": [
       "-9.320642852685059e+20"
      ]
     },
     "execution_count": 29,
     "metadata": {},
     "output_type": "execute_result"
    }
   ],
   "source": [
    "np.mean(cross_val_score(LinearRegression(), X_train, y_train, scoring=\"r2\"))"
   ]
  },
  {
   "cell_type": "code",
   "execution_count": 30,
   "metadata": {
    "collapsed": true
   },
   "outputs": [],
   "source": [
    "def submit_result_to_kaggle(estimator, X_train, y_train, X_test, test_id_idx):\n",
    "    estimator.fit(X_train, y_train)\n",
    "    result = estimator.predict(X_test)\n",
    "    df = pd.DataFrame(np.vstack((test_id_idx, result)).T.tolist(), columns=[\"Id\", \"SalePrice\"])\n",
    "    df[\"Id\"] = df[\"Id\"].astype('int64')\n",
    "    df = df.set_index('Id')\n",
    "    df.to_csv(\"result.csv\")"
   ]
  },
  {
   "cell_type": "code",
   "execution_count": 31,
   "metadata": {
    "collapsed": true
   },
   "outputs": [],
   "source": [
    "X_test_selected = select.transform(X_test)\n",
    "lr = LinearRegression()\n",
    "\n",
    "submit_result_to_kaggle(lr, X_train_selected, y_train, X_test_selected,test_id_idx)"
   ]
  },
  {
   "cell_type": "code",
   "execution_count": 32,
   "metadata": {},
   "outputs": [
    {
     "name": "stderr",
     "output_type": "stream",
     "text": [
      "f:\\anaconda3\\envs\\ml_scratch\\lib\\site-packages\\requests\\__init__.py:80: RequestsDependencyWarning: urllib3 (1.23) or chardet (3.0.4) doesn't match a supported version!\n",
      "  RequestsDependencyWarning)\n",
      "Traceback (most recent call last):\n",
      "  File \"f:\\anaconda3\\envs\\ml_scratch\\lib\\runpy.py\", line 174, in _run_module_as_main\n",
      "    \"__main__\", fname, loader, pkg_name)\n",
      "  File \"f:\\anaconda3\\envs\\ml_scratch\\lib\\runpy.py\", line 72, in _run_code\n",
      "    exec code in run_globals\n",
      "  File \"f:\\Anaconda3\\envs\\ml_scratch\\Scripts\\kaggle.exe\\__main__.py\", line 9, in <module>\n",
      "  File \"f:\\anaconda3\\envs\\ml_scratch\\lib\\site-packages\\kaggle\\cli.py\", line 46, in main\n",
      "    out = args.func(**command_args)\n",
      "  File \"f:\\anaconda3\\envs\\ml_scratch\\lib\\site-packages\\kaggle\\api\\kaggle_api_extended.py\", line 198, in competition_submit\n",
      "    last_modified_date_utc=int(os.path.getmtime(file) * 1000)))\n",
      "  File \"f:\\anaconda3\\envs\\ml_scratch\\lib\\site-packages\\kaggle\\api\\kaggle_api.py\", line 773, in competitions_submissions_url_with_http_info\n",
      "    collection_formats=collection_formats)\n",
      "  File \"f:\\anaconda3\\envs\\ml_scratch\\lib\\site-packages\\kaggle\\api_client.py\", line 334, in call_api\n",
      "    _preload_content, _request_timeout)\n",
      "  File \"f:\\anaconda3\\envs\\ml_scratch\\lib\\site-packages\\kaggle\\api_client.py\", line 165, in __call_api\n",
      "    _request_timeout=_request_timeout)\n",
      "  File \"f:\\anaconda3\\envs\\ml_scratch\\lib\\site-packages\\kaggle\\api_client.py\", line 377, in request\n",
      "    body=body)\n",
      "  File \"f:\\anaconda3\\envs\\ml_scratch\\lib\\site-packages\\kaggle\\rest.py\", line 288, in POST\n",
      "    body=body)\n",
      "  File \"f:\\anaconda3\\envs\\ml_scratch\\lib\\site-packages\\kaggle\\rest.py\", line 241, in request\n",
      "    raise ApiException(http_resp=r)\n",
      "kaggle.rest.ApiException: (401)\n",
      "Reason: Unauthorized\n",
      "HTTP response headers: HTTPHeaderDict({'Content-Length': '37', 'Set-Cookie': 'ARRAffinity=149d4edc4fabb85960905b7c0a1c6c6ac33ca88d29dc45bf2c5a79692de39906;Path=/;HttpOnly;Domain=www.kaggle.com', 'X-MiniProfiler-Ids': '[\"e114c778-0ce6-47c0-8540-fd92b3de95db\",\"16cbd377-f4fc-4efe-a235-7f1f39e4b181\",\"c77e3395-de89-4891-9fe1-4d72fc3eda63\",\"5c47941f-a49d-4440-a2cd-06392fd53f79\",\"0b409f86-a9c5-4c57-9bab-52f4711f6480\",\"854f09f2-06a9-449d-8bb4-56c5149512cf\"]', 'Cache-Control': 'private', 'Date': 'Mon, 16 Jul 2018 09:51:23 GMT', 'X-Frame-Options': 'SAMEORIGIN', 'Referrer-Policy': 'strict-origin-when-cross-origin', 'Content-Type': 'application/json; charset=utf-8'})\n",
      "HTTP response body: {\"code\":401,\"message\":\"Unauthorized\"}\n",
      "\n"
     ]
    }
   ],
   "source": [
    "!kaggle competitions submit -c house-prices-advanced-regression-techniques -f result.csv -m \"Message\""
   ]
  },
  {
   "cell_type": "code",
   "execution_count": 33,
   "metadata": {
    "collapsed": true
   },
   "outputs": [],
   "source": [
    "submit_result_to_kaggle(lr, X_train, y_train, X_test,test_id_idx)"
   ]
  },
  {
   "cell_type": "code",
   "execution_count": 34,
   "metadata": {},
   "outputs": [
    {
     "name": "stderr",
     "output_type": "stream",
     "text": [
      "f:\\anaconda3\\envs\\ml_scratch\\lib\\site-packages\\requests\\__init__.py:80: RequestsDependencyWarning: urllib3 (1.23) or chardet (3.0.4) doesn't match a supported version!\n",
      "  RequestsDependencyWarning)\n",
      "Traceback (most recent call last):\n",
      "  File \"f:\\anaconda3\\envs\\ml_scratch\\lib\\runpy.py\", line 174, in _run_module_as_main\n",
      "    \"__main__\", fname, loader, pkg_name)\n",
      "  File \"f:\\anaconda3\\envs\\ml_scratch\\lib\\runpy.py\", line 72, in _run_code\n",
      "    exec code in run_globals\n",
      "  File \"f:\\Anaconda3\\envs\\ml_scratch\\Scripts\\kaggle.exe\\__main__.py\", line 9, in <module>\n",
      "  File \"f:\\anaconda3\\envs\\ml_scratch\\lib\\site-packages\\kaggle\\cli.py\", line 46, in main\n",
      "    out = args.func(**command_args)\n",
      "  File \"f:\\anaconda3\\envs\\ml_scratch\\lib\\site-packages\\kaggle\\api\\kaggle_api_extended.py\", line 198, in competition_submit\n",
      "    last_modified_date_utc=int(os.path.getmtime(file) * 1000)))\n",
      "  File \"f:\\anaconda3\\envs\\ml_scratch\\lib\\site-packages\\kaggle\\api\\kaggle_api.py\", line 773, in competitions_submissions_url_with_http_info\n",
      "    collection_formats=collection_formats)\n",
      "  File \"f:\\anaconda3\\envs\\ml_scratch\\lib\\site-packages\\kaggle\\api_client.py\", line 334, in call_api\n",
      "    _preload_content, _request_timeout)\n",
      "  File \"f:\\anaconda3\\envs\\ml_scratch\\lib\\site-packages\\kaggle\\api_client.py\", line 165, in __call_api\n",
      "    _request_timeout=_request_timeout)\n",
      "  File \"f:\\anaconda3\\envs\\ml_scratch\\lib\\site-packages\\kaggle\\api_client.py\", line 377, in request\n",
      "    body=body)\n",
      "  File \"f:\\anaconda3\\envs\\ml_scratch\\lib\\site-packages\\kaggle\\rest.py\", line 288, in POST\n",
      "    body=body)\n",
      "  File \"f:\\anaconda3\\envs\\ml_scratch\\lib\\site-packages\\kaggle\\rest.py\", line 241, in request\n",
      "    raise ApiException(http_resp=r)\n",
      "kaggle.rest.ApiException: (401)\n",
      "Reason: Unauthorized\n",
      "HTTP response headers: HTTPHeaderDict({'Content-Length': '37', 'Set-Cookie': 'ARRAffinity=4a61dbe36425fc14ec3bbaab9c92ad24b070275bc0c6af9db5e9753d74555a44;Path=/;HttpOnly;Domain=www.kaggle.com', 'X-MiniProfiler-Ids': '[\"8e731e0b-25c5-413f-b68a-fb655f8a7c66\",\"1e6a9a3b-4143-4fa4-bcd9-b1be4855bcdf\",\"18df39d4-d240-4584-84fb-594e7bad994d\",\"c6d1e2f6-5cdb-451f-bfe8-55d27ff15c4e\",\"c281882e-d64a-471b-bafb-ee23e58a7304\",\"947009d3-c921-4cff-9768-95deb1e57c70\"]', 'Cache-Control': 'private', 'Date': 'Mon, 16 Jul 2018 09:51:25 GMT', 'X-Frame-Options': 'SAMEORIGIN', 'Referrer-Policy': 'strict-origin-when-cross-origin', 'Content-Type': 'application/json; charset=utf-8'})\n",
      "HTTP response body: {\"code\":401,\"message\":\"Unauthorized\"}\n",
      "\n"
     ]
    }
   ],
   "source": [
    "!kaggle competitions submit -c house-prices-advanced-regression-techniques -f result.csv -m \"Message\""
   ]
  },
  {
   "cell_type": "code",
   "execution_count": 18,
   "metadata": {},
   "outputs": [
    {
     "data": {
      "text/plain": [
       "array([False,  True, False, False, False,  True, False, False, False,\n",
       "       False, False, False, False, False, False,  True,  True,  True,\n",
       "        True, False, False,  True,  True,  True,  True,  True,  True,\n",
       "        True, False, False, False, False, False, False, False,  True,\n",
       "        True,  True,  True,  True, False,  True,  True,  True,  True,\n",
       "       False,  True, False, False,  True,  True, False, False,  True,\n",
       "        True,  True,  True,  True,  True,  True, False, False, False,\n",
       "       False,  True, False, False])"
      ]
     },
     "execution_count": 18,
     "metadata": {},
     "output_type": "execute_result"
    }
   ],
   "source": [
    "select.get_support()\n"
   ]
  },
  {
   "cell_type": "code",
   "execution_count": 19,
   "metadata": {},
   "outputs": [
    {
     "data": {
      "text/plain": [
       "array([5.57502768e-001, 5.02124571e-015, 9.99995404e-001, 9.61452045e-002,\n",
       "       9.78688681e-001, 1.56588106e-018, 8.53544002e-001, 6.08632426e-004,\n",
       "       1.00000000e+000, 1.00000000e+000, 9.40689416e-001, 4.47384728e-003,\n",
       "       7.28714288e-001, 9.99971838e-001, 1.00000000e+000, 0.00000000e+000,\n",
       "       2.74137086e-080, 2.16603844e-032, 9.80605930e-008, 6.03435379e-005,\n",
       "       5.21139084e-001, 3.28224819e-014, 3.66786948e-057, 3.40254555e-116,\n",
       "       6.58540871e-136, 0.00000000e+000, 1.56650821e-015, 1.03867093e-011,\n",
       "       7.86193808e-001, 1.48016042e-002, 9.99660590e-001, 9.72965311e-001,\n",
       "       9.99999809e-001, 1.62972263e-002, 5.06478431e-003, 9.89489137e-057,\n",
       "       1.29089040e-029, 2.28852795e-016, 1.17708063e-020, 5.80269212e-013,\n",
       "       5.31304381e-001, 2.19085586e-007, 9.28134677e-030, 2.04558302e-030,\n",
       "       3.34282253e-012, 9.82841633e-001, 1.01652264e-060, 4.32652907e-002,\n",
       "       9.86567394e-001, 5.30633056e-040, 1.41075810e-006, 2.14400746e-003,\n",
       "       9.62826203e-001, 1.43794427e-017, 1.23675640e-011, 5.35611465e-016,\n",
       "       4.12651593e-045, 2.57617802e-037, 7.39104958e-006, 9.65929646e-007,\n",
       "       9.98789590e-001, 9.61469948e-001, 5.00582473e-001, 5.93745451e-001,\n",
       "       4.20626954e-069, 1.82269336e-001, 7.63487774e-002])"
      ]
     },
     "execution_count": 19,
     "metadata": {},
     "output_type": "execute_result"
    }
   ],
   "source": [
    "select.pvalues_"
   ]
  }
 ],
 "metadata": {
  "kernelspec": {
   "display_name": "Python 3",
   "language": "python",
   "name": "python3"
  },
  "language_info": {
   "codemirror_mode": {
    "name": "ipython",
    "version": 3
   },
   "file_extension": ".py",
   "mimetype": "text/x-python",
   "name": "python",
   "nbconvert_exporter": "python",
   "pygments_lexer": "ipython3",
   "version": "3.6.2"
  }
 },
 "nbformat": 4,
 "nbformat_minor": 2
}
