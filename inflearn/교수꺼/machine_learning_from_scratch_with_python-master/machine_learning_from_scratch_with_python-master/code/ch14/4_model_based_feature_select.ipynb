{
 "cells": [
  {
   "cell_type": "code",
   "execution_count": 1,
   "metadata": {},
   "outputs": [],
   "source": [
    "import warnings\n",
    "warnings.filterwarnings('ignore')"
   ]
  },
  {
   "cell_type": "code",
   "execution_count": 2,
   "metadata": {},
   "outputs": [],
   "source": [
    "import hourse_price_preprocessor as hpp\n",
    "import os\n",
    "import numpy as np\n",
    "import pandas as pd"
   ]
  },
  {
   "cell_type": "code",
   "execution_count": 3,
   "metadata": {},
   "outputs": [],
   "source": [
    "DATA_DIR = \"house_price\"\n",
    "TEST_FILENAME = \"test.csv\"\n",
    "TRAIN_FILENAME = \"train.csv\""
   ]
  },
  {
   "cell_type": "code",
   "execution_count": 4,
   "metadata": {},
   "outputs": [],
   "source": [
    "test_file = os.path.join(DATA_DIR, TEST_FILENAME)\n",
    "train_file = os.path.join(DATA_DIR, TRAIN_FILENAME)"
   ]
  },
  {
   "cell_type": "code",
   "execution_count": 5,
   "metadata": {},
   "outputs": [],
   "source": [
    "X_train, X_test, y_train, test_id_idx = hpp.get_train_test_split_dataset(train_file, test_file)"
   ]
  },
  {
   "cell_type": "code",
   "execution_count": 6,
   "metadata": {},
   "outputs": [
    {
     "data": {
      "text/plain": [
       "((1460, 67), (1460,), (1459, 67), (1459,))"
      ]
     },
     "execution_count": 6,
     "metadata": {},
     "output_type": "execute_result"
    }
   ],
   "source": [
    "X_train.shape, y_train.shape, X_test.shape, test_id_idx.shape"
   ]
  },
  {
   "cell_type": "code",
   "execution_count": 7,
   "metadata": {},
   "outputs": [],
   "source": [
    "from sklearn.feature_selection import SelectFromModel\n",
    "from sklearn.ensemble import RandomForestRegressor\n",
    "from sklearn.linear_model import LinearRegression\n",
    "from sklearn.model_selection import cross_val_score\n",
    "\n",
    "from sklearn.tree import DecisionTreeRegressor\n"
   ]
  },
  {
   "cell_type": "code",
   "execution_count": 8,
   "metadata": {},
   "outputs": [],
   "source": [
    "select  = SelectFromModel(estimator=RandomForestRegressor(n_estimators=200), threshold=\"median\")"
   ]
  },
  {
   "cell_type": "code",
   "execution_count": 9,
   "metadata": {},
   "outputs": [],
   "source": [
    "select.fit(X_train, y_train)\n",
    "\n",
    "# transform training set\n",
    "X_train_selected = select.transform(X_train)"
   ]
  },
  {
   "cell_type": "code",
   "execution_count": 10,
   "metadata": {},
   "outputs": [
    {
     "data": {
      "text/plain": [
       "(1460, 34)"
      ]
     },
     "execution_count": 10,
     "metadata": {},
     "output_type": "execute_result"
    }
   ],
   "source": [
    "X_train_selected.shape"
   ]
  },
  {
   "cell_type": "code",
   "execution_count": 13,
   "metadata": {},
   "outputs": [
    {
     "data": {
      "text/plain": [
       "0.8459987155520067"
      ]
     },
     "execution_count": 13,
     "metadata": {},
     "output_type": "execute_result"
    }
   ],
   "source": [
    "np.mean(cross_val_score(RandomForestRegressor(n_estimators=1000), X_train_selected, y_train, scoring=\"r2\"))"
   ]
  },
  {
   "cell_type": "code",
   "execution_count": 14,
   "metadata": {},
   "outputs": [
    {
     "data": {
      "text/plain": [
       "0.8453713374930251"
      ]
     },
     "execution_count": 14,
     "metadata": {},
     "output_type": "execute_result"
    }
   ],
   "source": [
    "np.mean(cross_val_score(RandomForestRegressor(n_estimators=1000), X_train, y_train, scoring=\"r2\"))"
   ]
  },
  {
   "cell_type": "code",
   "execution_count": 15,
   "metadata": {},
   "outputs": [],
   "source": [
    "def submit_result_to_kaggle(estimator, X_train, y_train, X_test, test_id_idx):\n",
    "    estimator.fit(X_train, y_train)\n",
    "    result = estimator.predict(X_test)\n",
    "    df = pd.DataFrame(np.vstack((test_id_idx, result)).T.tolist(), columns=[\"Id\", \"SalePrice\"])\n",
    "    df[\"Id\"] = df[\"Id\"].astype('int64')\n",
    "    df = df.set_index('Id')\n",
    "    df.to_csv(\"result.csv\")"
   ]
  },
  {
   "cell_type": "code",
   "execution_count": 16,
   "metadata": {},
   "outputs": [],
   "source": [
    "X_test_selected = select.transform(X_test)\n",
    "lr = RandomForestRegressor(n_estimators=1000)\n",
    "\n",
    "submit_result_to_kaggle(lr, X_train_selected, y_train, X_test_selected,test_id_idx)"
   ]
  },
  {
   "cell_type": "code",
   "execution_count": 17,
   "metadata": {},
   "outputs": [
    {
     "name": "stdout",
     "output_type": "stream",
     "text": [
      "Warning: Looks like you're using an outdated API Version, please consider updating (server 1.3.9.1 / client 1.1.0)\n",
      "Successfully submitted to House Prices: Advanced Regression Techniques"
     ]
    }
   ],
   "source": [
    "!kaggle competitions submit -c house-prices-advanced-regression-techniques -f result.csv -m \"Message\""
   ]
  },
  {
   "cell_type": "code",
   "execution_count": 18,
   "metadata": {},
   "outputs": [],
   "source": [
    "submit_result_to_kaggle(lr, X_train, y_train, X_test,test_id_idx)"
   ]
  },
  {
   "cell_type": "code",
   "execution_count": 19,
   "metadata": {},
   "outputs": [
    {
     "name": "stdout",
     "output_type": "stream",
     "text": [
      "Warning: Looks like you're using an outdated API Version, please consider updating (server 1.3.9.1 / client 1.1.0)\n",
      "Successfully submitted to House Prices: Advanced Regression Techniques"
     ]
    }
   ],
   "source": [
    "!kaggle competitions submit -c house-prices-advanced-regression-techniques -f result.csv -m \"Message\""
   ]
  },
  {
   "cell_type": "code",
   "execution_count": 20,
   "metadata": {},
   "outputs": [
    {
     "data": {
      "text/plain": [
       "array([False, False, False, False, False,  True, False, False, False,\n",
       "       False, False, False, False, False, False, False, False, False,\n",
       "       False,  True,  True,  True,  True,  True,  True, False, False,\n",
       "       False, False, False, False, False, False, False,  True,  True,\n",
       "        True,  True,  True,  True,  True,  True,  True,  True,  True,\n",
       "       False,  True,  True, False,  True,  True,  True,  True,  True,\n",
       "        True,  True,  True,  True,  True,  True,  True, False,  True,\n",
       "       False, False,  True, False])"
      ]
     },
     "execution_count": 20,
     "metadata": {},
     "output_type": "execute_result"
    }
   ],
   "source": [
    "select.get_support()"
   ]
  },
  {
   "cell_type": "code",
   "execution_count": 21,
   "metadata": {},
   "outputs": [
    {
     "data": {
      "text/plain": [
       "array([5.99371298e-04, 5.90352045e-04, 2.42990963e-05, 1.44200939e-05,\n",
       "       2.28496397e-04, 1.48612298e-03, 2.44289812e-04, 1.16518125e-04,\n",
       "       2.32119991e-04, 1.47174083e-05, 3.06367232e-04, 2.71076626e-04,\n",
       "       1.25068352e-04, 5.94377370e-06, 7.44277693e-05, 1.32355351e-05,\n",
       "       3.19138656e-05, 2.15147758e-04, 7.45161440e-04, 2.98379915e-03,\n",
       "       1.62707038e-03, 7.20793814e-03, 1.91500980e-02, 5.58200377e-03,\n",
       "       1.76124136e-03, 1.62014439e-06, 1.02832613e-04, 1.02321151e-03,\n",
       "       5.74841603e-04, 8.94953731e-04, 9.79008547e-04, 1.03395097e-03,\n",
       "       3.26199400e-04, 4.14439340e-04, 8.15996257e-03, 1.69681420e-02,\n",
       "       6.35205007e-02, 3.30562071e-02, 8.73919499e-03, 3.65380381e-02,\n",
       "       1.64799088e-03, 7.98401968e-03, 6.76821930e-02, 3.87854594e-02,\n",
       "       2.42873819e-02, 1.90125136e-04, 2.35310805e-01, 1.80068655e-03,\n",
       "       5.20195262e-04, 8.31185842e-03, 2.45128022e-03, 4.43473721e-03,\n",
       "       2.13633642e-03, 8.35144107e-03, 9.43389344e-03, 8.12610939e-03,\n",
       "       3.20613463e-01, 2.06954267e-02, 5.66626192e-03, 7.82274037e-03,\n",
       "       1.10041381e-03, 6.46443399e-04, 1.72084141e-03, 1.00587839e-03,\n",
       "       1.85955921e-04, 2.34479318e-03, 7.58964767e-04])"
      ]
     },
     "execution_count": 21,
     "metadata": {},
     "output_type": "execute_result"
    }
   ],
   "source": [
    "lr.\n"
   ]
  }
 ],
 "metadata": {
  "kernelspec": {
   "display_name": "Python 3",
   "language": "python",
   "name": "python3"
  },
  "language_info": {
   "codemirror_mode": {
    "name": "ipython",
    "version": 3
   },
   "file_extension": ".py",
   "mimetype": "text/x-python",
   "name": "python",
   "nbconvert_exporter": "python",
   "pygments_lexer": "ipython3",
   "version": "3.6.5"
  }
 },
 "nbformat": 4,
 "nbformat_minor": 2
}
