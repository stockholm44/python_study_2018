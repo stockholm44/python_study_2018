{
 "cells": [
  {
   "cell_type": "code",
   "execution_count": 16,
   "metadata": {},
   "outputs": [],
   "source": [
    "import hourse_price_preprocessor\n",
    "from stacking import MyStackingRegressor\n",
    "import numpy as np\n",
    "from pandas import DataFrame\n",
    "\n",
    "from sklearn.model_selection import cross_val_score\n"
   ]
  },
  {
   "cell_type": "code",
   "execution_count": 10,
   "metadata": {},
   "outputs": [],
   "source": [
    "import warnings\n",
    "import copy\n",
    "warnings.filterwarnings('ignore')"
   ]
  },
  {
   "cell_type": "code",
   "execution_count": 11,
   "metadata": {},
   "outputs": [
    {
     "name": "stdout",
     "output_type": "stream",
     "text": [
      "The autoreload extension is already loaded. To reload it, use:\n",
      "  %reload_ext autoreload\n"
     ]
    }
   ],
   "source": [
    "%load_ext autoreload\n",
    "%autoreload 2"
   ]
  },
  {
   "cell_type": "code",
   "execution_count": 17,
   "metadata": {},
   "outputs": [],
   "source": [
    "trainset_file = \"./house_price/train.csv\"\n",
    "test_file = \"./house_price/test.csv\"\n",
    "\n",
    "X_train, X_test, y_train, test_id_idx = \\\n",
    "            hourse_price_preprocessor.get_train_test_split_dataset(trainset_file,test_file)"
   ]
  },
  {
   "cell_type": "code",
   "execution_count": 18,
   "metadata": {},
   "outputs": [],
   "source": [
    "from xgboost import XGBRegressor\n",
    "from lightgbm.sklearn import LGBMRegressor\n",
    "from sklearn.ensemble import RandomForestRegressor\n",
    "from sklearn.naive_bayes import GaussianNB\n",
    "from sklearn.svm import LinearSVR\n",
    "from sklearn.neural_network import MLPRegressor"
   ]
  },
  {
   "cell_type": "code",
   "execution_count": 19,
   "metadata": {},
   "outputs": [],
   "source": [
    "estimator1 = XGBRegressor(max_depth=3, learning_rate=0.5, n_estimators=50)\n",
    "estimator2 = LGBMRegressor(max_depth=2, learning_rate=0.5, n_estimators=50)\n",
    "estimator3 = RandomForestRegressor(n_estimators=500, max_depth=3)\n",
    "estimator4 = GaussianNB()\n",
    "estimator5 = LinearSVR()\n",
    "estimator6 = MLPRegressor(hidden_layer_sizes=(512,256, 32))"
   ]
  },
  {
   "cell_type": "code",
   "execution_count": 20,
   "metadata": {},
   "outputs": [],
   "source": [
    "base_estimators = [estimator1, estimator2, estimator3, estimator4, estimator5, estimator6]"
   ]
  },
  {
   "cell_type": "code",
   "execution_count": 21,
   "metadata": {},
   "outputs": [],
   "source": [
    "meta_estimator = XGBRegressor(max_depth=3, learning_rate=0.5, n_estimators=50)"
   ]
  },
  {
   "cell_type": "code",
   "execution_count": 22,
   "metadata": {},
   "outputs": [],
   "source": [
    "stack_regressor = MyStackingRegressor(meta_estimator, base_estimators)"
   ]
  },
  {
   "cell_type": "code",
   "execution_count": 27,
   "metadata": {},
   "outputs": [
    {
     "name": "stdout",
     "output_type": "stream",
     "text": [
      "(292, 6)\n"
     ]
    },
    {
     "data": {
      "text/plain": [
       "MyStackingRegressor(base_estimators=[XGBRegressor(base_score=0.5, booster='gbtree', colsample_bylevel=1,\n",
       "       colsample_bytree=1, gamma=0, learning_rate=0.5, max_delta_step=0,\n",
       "       max_depth=3, min_child_weight=1, missing=None, n_estimators=50,\n",
       "       n_jobs=1, nthread=None, objective='reg:linear', random_state=0,\n",
       "...e=True, solver='adam', tol=0.0001, validation_fraction=0.1,\n",
       "       verbose=False, warm_start=False)],\n",
       "          feature_weights=None,\n",
       "          meta_estimator=XGBRegressor(base_score=0.5, booster='gbtree', colsample_bylevel=1,\n",
       "       colsample_bytree=1, gamma=0, learning_rate=0.5, max_delta_step=0,\n",
       "       max_depth=3, min_child_weight=1, missing=None, n_estimators=50,\n",
       "       n_jobs=1, nthread=None, objective='reg:linear', random_state=0,\n",
       "       reg_alpha=0, reg_lambda=1, scale_pos_weight=1, seed=None,\n",
       "       silent=True, subsample=1),\n",
       "          test_ratio=0.2)"
      ]
     },
     "execution_count": 27,
     "metadata": {},
     "output_type": "execute_result"
    }
   ],
   "source": [
    "stack_regressor.fit(X_train, y_train)"
   ]
  },
  {
   "cell_type": "code",
   "execution_count": 31,
   "metadata": {},
   "outputs": [
    {
     "data": {
      "text/plain": [
       "-1209094010.8762403"
      ]
     },
     "execution_count": 31,
     "metadata": {},
     "output_type": "execute_result"
    }
   ],
   "source": [
    "cross_val_score(stack_regressor, X_train, y_train, scoring=\"mean_squared_error\" , cv=5).mean()"
   ]
  },
  {
   "cell_type": "code",
   "execution_count": 34,
   "metadata": {},
   "outputs": [
    {
     "name": "stdout",
     "output_type": "stream",
     "text": [
      "-1437656288.675879\n",
      "-1500632269.2301717\n",
      "-942747658.5541519\n",
      "-3542119858.521918\n",
      "-1274039668.9304452\n",
      "-1812187239.4012923\n"
     ]
    }
   ],
   "source": [
    "\n",
    "for estimator in base_estimators:\n",
    "    stack_regressor = MyStackingRegressor(copy.copy(estimator), base_estimators)\n",
    "    stack_regressor.fit(X_train, y_train)\n",
    "    result = cross_val_score(stack_regressor, X_train, y_train, scoring=\"mean_squared_error\" , cv=5).mean()\n",
    "    print(result)"
   ]
  },
  {
   "cell_type": "code",
   "execution_count": 35,
   "metadata": {},
   "outputs": [
    {
     "name": "stdout",
     "output_type": "stream",
     "text": [
      "-963969338.650704\n",
      "-1141626511.0051265\n",
      "-1800517249.3279395\n",
      "-2113784463.8692105\n",
      "-36887497534.32105\n",
      "-1199706745.220332\n"
     ]
    }
   ],
   "source": [
    "for estimator in base_estimators:\n",
    "    general_estimator = copy.copy(estimator)\n",
    "    general_estimator.fit(X_train, y_train)\n",
    "    result = cross_val_score(general_estimator, X_train, y_train, scoring=\"mean_squared_error\" , cv=5).mean()\n",
    "    del general_estimator\n",
    "    print(result)"
   ]
  },
  {
   "cell_type": "code",
   "execution_count": 40,
   "metadata": {},
   "outputs": [
    {
     "data": {
      "text/plain": [
       "array([128621.04 , 155807.97 , 197459.06 , ..., 130143.836, 114837.03 ,\n",
       "       260349.64 ], dtype=float32)"
      ]
     },
     "execution_count": 40,
     "metadata": {},
     "output_type": "execute_result"
    }
   ],
   "source": [
    "general_estimator = copy.copy(base_estimators[0])\n",
    "general_estimator.fit(X_train, y_train)\n",
    "general_estimator.predict(X_test)"
   ]
  },
  {
   "cell_type": "code",
   "execution_count": 44,
   "metadata": {},
   "outputs": [],
   "source": [
    "def make_submission(estimator, X_test, test_id_idx, filename, column_names):\n",
    "    id_value=test_id_idx\n",
    "    sales_price = estimator.predict(X_test)\n",
    "    result = np.vstack([id_value, sales_price]).T\n",
    "    submission_df =DataFrame(result, columns=column_names).set_index(column_names[0])\n",
    "    submission_df.index = submission_df.index.astype(int)\n",
    "    submission_df.to_csv(filename)\n"
   ]
  },
  {
   "cell_type": "code",
   "execution_count": 45,
   "metadata": {},
   "outputs": [],
   "source": [
    "make_submission(general_estimator, X_test, test_id_idx)"
   ]
  },
  {
   "cell_type": "code",
   "execution_count": 48,
   "metadata": {},
   "outputs": [
    {
     "name": "stdout",
     "output_type": "stream",
     "text": [
      "Warning: Looks like you're using an outdated API Version, please consider updating (server 1.3.8 / client 1.1.0)\n",
      "Successfully submitted to House Prices: Advanced Regression Techniques"
     ]
    }
   ],
   "source": [
    "!kaggle competitions submit -c house-prices-advanced-regression-techniques -f house_price_result_search.csv -m \"Message\""
   ]
  },
  {
   "cell_type": "code",
   "execution_count": 50,
   "metadata": {},
   "outputs": [
    {
     "data": {
      "text/plain": [
       "MyStackingRegressor(base_estimators=[XGBRegressor(base_score=0.5, booster='gbtree', colsample_bylevel=1,\n",
       "       colsample_bytree=1, gamma=0, learning_rate=0.5, max_delta_step=0,\n",
       "       max_depth=3, min_child_weight=1, missing=None, n_estimators=50,\n",
       "       n_jobs=1, nthread=None, objective='reg:linear', random_state=0,\n",
       "...e=True, solver='adam', tol=0.0001, validation_fraction=0.1,\n",
       "       verbose=False, warm_start=False)],\n",
       "          feature_weights=None,\n",
       "          meta_estimator=RandomForestRegressor(bootstrap=True, criterion='mse', max_depth=3,\n",
       "           max_features='auto', max_leaf_nodes=None,\n",
       "           min_impurity_decrease=0.0, min_impurity_split=None,\n",
       "           min_samples_leaf=1, min_samples_split=2,\n",
       "           min_weight_fraction_leaf=0.0, n_estimators=500, n_jobs=1,\n",
       "           oob_score=False, random_state=None, verbose=0, warm_start=False),\n",
       "          test_ratio=0.2)"
      ]
     },
     "execution_count": 50,
     "metadata": {},
     "output_type": "execute_result"
    }
   ],
   "source": [
    "general_estimator = copy.copy(base_estimators[2])\n",
    "stack_regressor = MyStackingRegressor(general_estimator, base_estimators)\n",
    "stack_regressor.fit(X_train, y_train)"
   ]
  },
  {
   "cell_type": "code",
   "execution_count": 51,
   "metadata": {},
   "outputs": [],
   "source": [
    "make_submission(stack_regressor, X_test, test_id_idx)"
   ]
  },
  {
   "cell_type": "code",
   "execution_count": 53,
   "metadata": {},
   "outputs": [
    {
     "name": "stdout",
     "output_type": "stream",
     "text": [
      "Warning: Looks like you're using an outdated API Version, please consider updating (server 1.3.8 / client 1.1.0)\n",
      "Successfully submitted to House Prices: Advanced Regression Techniques"
     ]
    }
   ],
   "source": [
    "!kaggle competitions submit -c house-prices-advanced-regression-techniques -f house_price_result_search.csv -m \"Message\""
   ]
  },
  {
   "cell_type": "markdown",
   "metadata": {},
   "source": [
    "## Classifier problems"
   ]
  },
  {
   "cell_type": "code",
   "execution_count": 3,
   "metadata": {},
   "outputs": [],
   "source": [
    "from xgboost import XGBClassifier\n",
    "from lightgbm.sklearn import LGBMClassifier\n",
    "from sklearn.ensemble import RandomForestClassifier\n",
    "from sklearn.svm import LinearSVC\n",
    "from sklearn.neural_network import MLPClassifier\n",
    "from stacking import MyStackingClassifier"
   ]
  },
  {
   "cell_type": "code",
   "execution_count": 4,
   "metadata": {},
   "outputs": [],
   "source": [
    "X = np.load(\"./tatanic_X_train.npy\")\n",
    "y = np.load(\"./tatanic_y_train.npy\")"
   ]
  },
  {
   "cell_type": "code",
   "execution_count": 13,
   "metadata": {},
   "outputs": [],
   "source": [
    "estimator1 = XGBClassifier(max_depth=3, learning_rate=0.5, n_estimators=50)\n",
    "estimator2 = LGBMClassifier(max_depth=2, learning_rate=0.5, n_estimators=50)\n",
    "estimator3 = RandomForestClassifier(n_estimators=500, max_depth=3)\n",
    "estimator4 = LinearSVC()\n",
    "estimator5 = MLPClassifier(hidden_layer_sizes=(512,256, 32))"
   ]
  },
  {
   "cell_type": "code",
   "execution_count": 14,
   "metadata": {},
   "outputs": [],
   "source": [
    "base_estimators = [estimator1, estimator2, estimator3, estimator4, estimator5]"
   ]
  },
  {
   "cell_type": "code",
   "execution_count": 22,
   "metadata": {},
   "outputs": [
    {
     "name": "stdout",
     "output_type": "stream",
     "text": [
      "0.8290611312131023\n",
      "0.8211769186821556\n",
      "0.8268075922046595\n",
      "0.8223259061766013\n",
      "0.8087665841427031\n"
     ]
    }
   ],
   "source": [
    "for estimator in base_estimators:\n",
    "    stack_classifier = MyStackingClassifier(copy.copy(estimator), base_estimators)\n",
    "    result = cross_val_score(stack_classifier, X, y, scoring=\"accuracy\" , cv=5).mean()\n",
    "    print(result)"
   ]
  },
  {
   "cell_type": "code",
   "execution_count": 23,
   "metadata": {},
   "outputs": [
    {
     "name": "stdout",
     "output_type": "stream",
     "text": [
      "0.840290738272075\n",
      "0.833561861232781\n",
      "0.8087729321399099\n",
      "0.8313083222243381\n",
      "0.831321018218752\n"
     ]
    }
   ],
   "source": [
    "for estimator in base_estimators:\n",
    "    general_estimator = copy.copy(estimator)\n",
    "    result = cross_val_score(general_estimator, X, y, scoring=\"accuracy\" , cv=5).mean()\n",
    "    del general_estimator\n",
    "    print(result)"
   ]
  },
  {
   "cell_type": "code",
   "execution_count": 26,
   "metadata": {},
   "outputs": [],
   "source": [
    "X_test = np.load(\"tatanic_test.npy\")"
   ]
  },
  {
   "cell_type": "code",
   "execution_count": 32,
   "metadata": {},
   "outputs": [],
   "source": [
    "idx = list(range(892, 1310))"
   ]
  },
  {
   "cell_type": "code",
   "execution_count": 73,
   "metadata": {},
   "outputs": [
    {
     "ename": "IndexError",
     "evalue": "list index out of range",
     "output_type": "error",
     "traceback": [
      "\u001b[0;31m---------------------------------------------------------------------------\u001b[0m",
      "\u001b[0;31mIndexError\u001b[0m                                Traceback (most recent call last)",
      "\u001b[0;32m<ipython-input-73-9d64745dbc7e>\u001b[0m in \u001b[0;36m<module>\u001b[0;34m()\u001b[0m\n\u001b[0;32m----> 1\u001b[0;31m \u001b[0mgeneral_estimator\u001b[0m \u001b[0;34m=\u001b[0m \u001b[0mcopy\u001b[0m\u001b[0;34m.\u001b[0m\u001b[0mcopy\u001b[0m\u001b[0;34m(\u001b[0m\u001b[0mbase_estimators\u001b[0m\u001b[0;34m[\u001b[0m\u001b[0;36m5\u001b[0m\u001b[0;34m]\u001b[0m\u001b[0;34m)\u001b[0m\u001b[0;34m\u001b[0m\u001b[0m\n\u001b[0m\u001b[1;32m      2\u001b[0m \u001b[0mgeneral_estimator\u001b[0m\u001b[0;34m.\u001b[0m\u001b[0mfit\u001b[0m\u001b[0;34m(\u001b[0m\u001b[0mX\u001b[0m\u001b[0;34m,\u001b[0m \u001b[0my\u001b[0m\u001b[0;34m)\u001b[0m\u001b[0;34m\u001b[0m\u001b[0m\n",
      "\u001b[0;31mIndexError\u001b[0m: list index out of range"
     ]
    }
   ],
   "source": [
    "general_estimator = copy.copy(base_estimators[5])\n",
    "general_estimator.fit(X, y)"
   ]
  },
  {
   "cell_type": "code",
   "execution_count": 69,
   "metadata": {},
   "outputs": [],
   "source": [
    "column_names = [\"PassengerId\", \"Survived\"]"
   ]
  },
  {
   "cell_type": "code",
   "execution_count": 70,
   "metadata": {},
   "outputs": [],
   "source": [
    "def make_submission(estimator, X_test, test_id_idx, filename, column_names):\n",
    "    id_value=test_id_idx\n",
    "    sales_price = np.array(estimator.predict(X_test), dtype=int)\n",
    "    result = np.vstack([id_value, sales_price]).T\n",
    "    submission_df =DataFrame(result, columns=column_names).set_index(column_names[0])\n",
    "    submission_df.index = submission_df.index.astype(int)\n",
    "    submission_df.to_csv(filename)\n"
   ]
  },
  {
   "cell_type": "code",
   "execution_count": 71,
   "metadata": {},
   "outputs": [],
   "source": [
    "make_submission(general_estimator, X_test, idx, \"titanic_submssion.csv\", column_names)"
   ]
  },
  {
   "cell_type": "code",
   "execution_count": 72,
   "metadata": {},
   "outputs": [
    {
     "name": "stdout",
     "output_type": "stream",
     "text": [
      "Warning: Looks like you're using an outdated API Version, please consider updating (server 1.3.8 / client 1.1.0)\n",
      "Successfully submitted to Titanic: Machine Learning from Disaster"
     ]
    }
   ],
   "source": [
    "!kaggle competitions submit -c titanic -f titanic_submssion.csv -m \"Message\""
   ]
  },
  {
   "cell_type": "code",
   "execution_count": 88,
   "metadata": {},
   "outputs": [],
   "source": [
    "general_estimator = copy.copy(base_estimators[4])\n",
    "stack_estimator = MyStackingClassifier(general_estimator, base_estimators)\n",
    "result = stack_estimator.fit(X, y)\n",
    "make_submission(result, X_test, idx, \"titanic_submssion.csv\", column_names)"
   ]
  },
  {
   "cell_type": "code",
   "execution_count": 89,
   "metadata": {},
   "outputs": [
    {
     "name": "stdout",
     "output_type": "stream",
     "text": [
      "Warning: Looks like you're using an outdated API Version, please consider updating (server 1.3.8 / client 1.1.0)\n",
      "Successfully submitted to Titanic: Machine Learning from Disaster"
     ]
    }
   ],
   "source": [
    "!kaggle competitions submit -c titanic -f titanic_submssion.csv -m \"Message\""
   ]
  },
  {
   "cell_type": "code",
   "execution_count": null,
   "metadata": {},
   "outputs": [],
   "source": []
  }
 ],
 "metadata": {
  "kernelspec": {
   "display_name": "Python 3",
   "language": "python",
   "name": "python3"
  },
  "language_info": {
   "codemirror_mode": {
    "name": "ipython",
    "version": 3
   },
   "file_extension": ".py",
   "mimetype": "text/x-python",
   "name": "python",
   "nbconvert_exporter": "python",
   "pygments_lexer": "ipython3",
   "version": "3.6.5"
  }
 },
 "nbformat": 4,
 "nbformat_minor": 2
}
