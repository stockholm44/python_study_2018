{
 "cells": [
  {
   "cell_type": "code",
   "execution_count": 1,
   "metadata": {
    "collapsed": true
   },
   "outputs": [],
   "source": [
    "import numpy as np\n",
    "import xgboost as xgb"
   ]
  },
  {
   "cell_type": "code",
   "execution_count": 2,
   "metadata": {
    "collapsed": true
   },
   "outputs": [],
   "source": [
    "X = np.load(\"./tatanic_X_train.npy\")\n",
    "y = np.load(\"./tatanic_y_train.npy\")"
   ]
  },
  {
   "cell_type": "code",
   "execution_count": 5,
   "metadata": {},
   "outputs": [],
   "source": [
    "from sklearn.cross_validation import train_test_split"
   ]
  },
  {
   "cell_type": "code",
   "execution_count": 11,
   "metadata": {},
   "outputs": [],
   "source": [
    "X_train, X_test, y_train, y_test = train_test_split(X, y, test_size =0.3)"
   ]
  },
  {
   "cell_type": "code",
   "execution_count": 12,
   "metadata": {},
   "outputs": [],
   "source": [
    "dtrain = xgb.DMatrix(X_train, label=y_train)\n",
    "dtest = xgb.DMatrix(X_test, label=y_test)"
   ]
  },
  {
   "cell_type": "code",
   "execution_count": 13,
   "metadata": {
    "collapsed": true
   },
   "outputs": [],
   "source": [
    "param = {'max_depth': 2, 'eta': 0.5, 'silent': 1, 'objective': 'binary:logistic'}\n",
    "param['nthread'] = 7\n",
    "param['eval_metric'] = 'auc'\n",
    "evallist = [(dtest, 'eval'), (dtrain, 'train')]\n",
    "plst = param.items()"
   ]
  },
  {
   "cell_type": "code",
   "execution_count": 14,
   "metadata": {},
   "outputs": [
    {
     "name": "stdout",
     "output_type": "stream",
     "text": [
      "[0]\teval-auc:0.844072\ttrain-auc:0.828469\n",
      "[1]\teval-auc:0.877096\ttrain-auc:0.85691\n",
      "[2]\teval-auc:0.88491\ttrain-auc:0.854543\n",
      "[3]\teval-auc:0.893383\ttrain-auc:0.86737\n",
      "[4]\teval-auc:0.891856\ttrain-auc:0.873424\n",
      "[5]\teval-auc:0.89488\ttrain-auc:0.879952\n",
      "[6]\teval-auc:0.898204\ttrain-auc:0.886382\n",
      "[7]\teval-auc:0.897515\ttrain-auc:0.88684\n",
      "[8]\teval-auc:0.893114\ttrain-auc:0.890581\n",
      "[9]\teval-auc:0.894431\ttrain-auc:0.895124\n",
      "[10]\teval-auc:0.897036\ttrain-auc:0.89621\n",
      "[11]\teval-auc:0.897036\ttrain-auc:0.898418\n",
      "[12]\teval-auc:0.898772\ttrain-auc:0.897682\n",
      "[13]\teval-auc:0.898952\ttrain-auc:0.898108\n",
      "[14]\teval-auc:0.900509\ttrain-auc:0.89922\n",
      "[15]\teval-auc:0.891617\ttrain-auc:0.904314\n",
      "[16]\teval-auc:0.892036\ttrain-auc:0.904407\n",
      "[17]\teval-auc:0.886228\ttrain-auc:0.906359\n",
      "[18]\teval-auc:0.888024\ttrain-auc:0.91106\n",
      "[19]\teval-auc:0.886916\ttrain-auc:0.912811\n",
      "[20]\teval-auc:0.888114\ttrain-auc:0.912549\n",
      "[21]\teval-auc:0.887874\ttrain-auc:0.913454\n",
      "[22]\teval-auc:0.888473\ttrain-auc:0.913858\n",
      "[23]\teval-auc:0.888593\ttrain-auc:0.914807\n",
      "[24]\teval-auc:0.890958\ttrain-auc:0.91875\n",
      "[25]\teval-auc:0.892305\ttrain-auc:0.921106\n",
      "[26]\teval-auc:0.893323\ttrain-auc:0.921101\n",
      "[27]\teval-auc:0.891078\ttrain-auc:0.922229\n",
      "[28]\teval-auc:0.890539\ttrain-auc:0.922982\n",
      "[29]\teval-auc:0.89012\ttrain-auc:0.923898\n",
      "[30]\teval-auc:0.891078\ttrain-auc:0.923604\n",
      "[31]\teval-auc:0.891228\ttrain-auc:0.924171\n",
      "[32]\teval-auc:0.891377\ttrain-auc:0.924455\n",
      "[33]\teval-auc:0.89003\ttrain-auc:0.926942\n",
      "[34]\teval-auc:0.889072\ttrain-auc:0.927061\n",
      "[35]\teval-auc:0.89012\ttrain-auc:0.928136\n",
      "[36]\teval-auc:0.891856\ttrain-auc:0.928114\n",
      "[37]\teval-auc:0.888413\ttrain-auc:0.929985\n",
      "[38]\teval-auc:0.89003\ttrain-auc:0.929259\n",
      "[39]\teval-auc:0.890509\ttrain-auc:0.931899\n",
      "[40]\teval-auc:0.89021\ttrain-auc:0.93269\n",
      "[41]\teval-auc:0.888802\ttrain-auc:0.934086\n",
      "[42]\teval-auc:0.889641\ttrain-auc:0.933922\n",
      "[43]\teval-auc:0.889251\ttrain-auc:0.934953\n",
      "[44]\teval-auc:0.889731\ttrain-auc:0.935924\n",
      "[45]\teval-auc:0.88979\ttrain-auc:0.936611\n",
      "[46]\teval-auc:0.890269\ttrain-auc:0.937489\n",
      "[47]\teval-auc:0.890569\ttrain-auc:0.937784\n",
      "[48]\teval-auc:0.891467\ttrain-auc:0.93858\n",
      "[49]\teval-auc:0.888413\ttrain-auc:0.939332\n"
     ]
    }
   ],
   "source": [
    "num_round = 50\n",
    "bst = xgb.train(plst, dtrain, num_round, evallist)"
   ]
  },
  {
   "cell_type": "code",
   "execution_count": null,
   "metadata": {
    "collapsed": true
   },
   "outputs": [],
   "source": [
    "ypred = bst.predict(dtest, ntree_limit=bst.best_ntree_limit)"
   ]
  },
  {
   "cell_type": "code",
   "execution_count": 17,
   "metadata": {},
   "outputs": [
    {
     "data": {
      "text/plain": [
       "0.83895131086142327"
      ]
     },
     "execution_count": 17,
     "metadata": {},
     "output_type": "execute_result"
    }
   ],
   "source": [
    "(sum((ypred>0.5) == y_test)) / 267.0"
   ]
  }
 ],
 "metadata": {
  "kernelspec": {
   "display_name": "Python 2",
   "language": "python",
   "name": "python2"
  },
  "language_info": {
   "codemirror_mode": {
    "name": "ipython",
    "version": 2
   },
   "file_extension": ".py",
   "mimetype": "text/x-python",
   "name": "python",
   "nbconvert_exporter": "python",
   "pygments_lexer": "ipython2",
   "version": "2.7.13"
  }
 },
 "nbformat": 4,
 "nbformat_minor": 2
}
