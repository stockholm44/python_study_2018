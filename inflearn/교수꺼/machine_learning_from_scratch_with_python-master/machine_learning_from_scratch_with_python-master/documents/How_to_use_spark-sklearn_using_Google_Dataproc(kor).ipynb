{
 "cells": [
  {
   "cell_type": "markdown",
   "metadata": {
    "nbpresent": {
     "id": "1a8b9591-680e-4d1d-ba06-08bd8d2e77cf"
    }
   },
   "source": [
    "## Tutorial: How to use spark-sklearn using Google Datarproc\n",
    "-------------------------------\n",
    "\n",
    "### Overview\n",
    "- 본 문서는 Google의 Hadoop/Spark 분산 머신 클라우드 서비스인 Google Dataproc을 사용하여, Spark상에서 Scikit-Learn의 Hyper Parameter 최적화를 위해 Grid Search를 활용하는 예제에 대한 튜토리얼이다\n",
    "- 본 Tutorial은 아래와 같은 내용을 포함한다.\n",
    "    - gcloud를 활용한 Google Dataproc 클러스터 구성방법\n",
    "    - 구성된 클러스터위에 Jupyter Notebook을 사용하여 코딩 환경 구성 및 연결하기\n",
    "    - Spark-sklearn 설치\n",
    "    - Spark-Sklearn을 활용한 Grid Search 사용 예시"
   ]
  },
  {
   "cell_type": "markdown",
   "metadata": {},
   "source": [
    "### 1. 준비 - Gloud 가입하기"
   ]
  },
  {
   "cell_type": "markdown",
   "metadata": {},
   "source": [
    "### 2. gcloud util 설치하기"
   ]
  },
  {
   "cell_type": "markdown",
   "metadata": {},
   "source": [
    "### 3. Google Dataproc 클러스터 구성하기"
   ]
  },
  {
   "cell_type": "markdown",
   "metadata": {},
   "source": [
    "### 4. Jupyter Notebook으로 Dataproc 클러스터 접속하기"
   ]
  },
  {
   "cell_type": "markdown",
   "metadata": {},
   "source": [
    "### 5. Spark-Sklearn 설치 및 Grid Search 실시히기"
   ]
  },
  {
   "cell_type": "markdown",
   "metadata": {},
   "source": [
    "### References\n",
    "- https://databricks.com/blog/2016/02/08/auto-scaling-scikit-learn-with-apache-spark.html\n",
    "- https://github.com/databricks/spark-sklearn\n",
    "- https://blog.sourced.tech/post/dataproc_jupyter/\n",
    "- https://github.com/GoogleCloudPlatform/dataproc-initialization-actions/tree/master/jupyter"
   ]
  }
 ],
 "metadata": {
  "anaconda-cloud": {},
  "kernelspec": {
   "display_name": "Python [default]",
   "language": "python",
   "name": "python3"
  },
  "language_info": {
   "codemirror_mode": {
    "name": "ipython",
    "version": 3.0
   },
   "file_extension": ".py",
   "mimetype": "text/x-python",
   "name": "python",
   "nbconvert_exporter": "python",
   "pygments_lexer": "ipython3",
   "version": "3.5.3"
  },
  "nbpresent": {
   "slides": {
    "042a2c47-7c36-4f55-be80-69d72de25b27": {
     "id": "042a2c47-7c36-4f55-be80-69d72de25b27",
     "prev": "57a506bf-e894-4f47-bc2a-0550e1371f8e",
     "regions": {}
    },
    "57a506bf-e894-4f47-bc2a-0550e1371f8e": {
     "id": "57a506bf-e894-4f47-bc2a-0550e1371f8e",
     "prev": null,
     "regions": {}
    }
   },
   "themes": {}
  }
 },
 "nbformat": 4,
 "nbformat_minor": 0
}