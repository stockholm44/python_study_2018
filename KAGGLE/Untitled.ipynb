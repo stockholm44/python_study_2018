{
 "cells": [
  {
   "cell_type": "markdown",
   "metadata": {},
   "source": [
    "The data consists of real historical data collected from 2010 & 2011.  Employees are manually allowed or denied access to resources over time. You must create an algorithm capable of learning from this historical data to predict approval/denial for an unseen set of employees. \n",
    "\n",
    "File Descriptions\n",
    "train.csv - The training set. Each row has the ACTION (ground truth), RESOURCE, and information about the employee's role at the time of approval\n",
    "\n",
    "test.csv - The test set for which predictions should be made.  Each row asks whether an employee having the listed characteristics should have access to the listed resource.\n",
    "\n",
    "Column Descriptions\n",
    "Column Name\tDescription\n",
    "ACTION\tACTION is 1 if the resource was approved, 0 if the resource was not\n",
    "RESOURCE\tAn ID for each resource\n",
    "MGR_ID\tThe EMPLOYEE ID of the manager of the current EMPLOYEE ID record; an employee may have only one manager at a time\n",
    "ROLE_ROLLUP_1\tCompany role grouping category id 1 (e.g. US Engineering)\n",
    "ROLE_ROLLUP_2\tCompany role grouping category id 2 (e.g. US Retail)\n",
    "ROLE_DEPTNAME\tCompany role department description (e.g. Retail)\n",
    "ROLE_TITLE\tCompany role business title description (e.g. Senior Engineering Retail Manager)\n",
    "ROLE_FAMILY_DESC\tCompany role family extended description (e.g. Retail Manager, Software Engineering)\n",
    "ROLE_FAMILY\tCompany role family description (e.g. Retail Manager)\n",
    "ROLE_CODE\tCompany role code; this code is unique to each role (e.g. Manager)"
   ]
  },
  {
   "cell_type": "markdown",
   "metadata": {},
   "source": [
    "# Library 불러오기"
   ]
  },
  {
   "cell_type": "code",
   "execution_count": 2,
   "metadata": {},
   "outputs": [],
   "source": [
    "import pandas as pd\n",
    "import numpy as np\n",
    "import matplotlib.pyplot as plt\n",
    "import seaborn as sns"
   ]
  },
  {
   "cell_type": "code",
   "execution_count": null,
   "metadata": {},
   "outputs": [],
   "source": [
    "re"
   ]
  }
 ],
 "metadata": {
  "kernelspec": {
   "display_name": "Python 3",
   "language": "python",
   "name": "python3"
  },
  "language_info": {
   "codemirror_mode": {
    "name": "ipython",
    "version": 3
   },
   "file_extension": ".py",
   "mimetype": "text/x-python",
   "name": "python",
   "nbconvert_exporter": "python",
   "pygments_lexer": "ipython3",
   "version": "3.6.6"
  }
 },
 "nbformat": 4,
 "nbformat_minor": 2
}
